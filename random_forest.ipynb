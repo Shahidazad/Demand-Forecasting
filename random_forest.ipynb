{
 "cells": [
  {
   "cell_type": "code",
   "execution_count": 47,
   "metadata": {},
   "outputs": [],
   "source": [
    "import pandas as pd\n",
    "import matplotlib.pyplot as plt\n",
    "import datetime\n",
    "import warnings\n",
    "import seaborn as sns\n",
    "from sklearn.ensemble  import RandomForestRegressor\n",
    "from sklearn.metrics import mean_absolute_error,mean_absolute_percentage_error\n",
    "warnings.filterwarnings('ignore')\n",
    "from sklearn.preprocessing import LabelEncoder\n",
    "import numpy as np"
   ]
  },
  {
   "cell_type": "code",
   "execution_count": 2,
   "metadata": {},
   "outputs": [],
   "source": [
    "order_df=pd.read_parquet('tezcatli_orders_data.parquet')\n",
    "dodge_df=pd.read_excel('Housing Starts Analytics.xlsx')\n",
    "rr_data=pd.read_csv('r&r.csv')"
   ]
  },
  {
   "cell_type": "code",
   "execution_count": 3,
   "metadata": {},
   "outputs": [],
   "source": [
    "order_df['Order Create Date']=pd.to_datetime(order_df['Order Create Date'])\n",
    "order_df=order_df.loc[order_df['Region Name']!='Export/Interco']\n",
    "# order_df=order_df.loc[order_df['Product Segment'].isin(['Exterior','Interior'])]\n",
    "order_df=order_df[[ 'Order Create Date',\n",
    "       'Region Name', 'District Name', 'forecast_group', 'Order Volume (STD)']]\n",
    "\n",
    "order_df['year'] = order_df['Order Create Date'].dt.year\n",
    "order_df['month'] = order_df['Order Create Date'].dt.month\n",
    "order_df=order_df.sort_values(by='Order Create Date').reset_index(drop=True)\n",
    "def convert_to_year_quarter(year,month):\n",
    "    year = year\n",
    "    quarter = (month - 1) // 3 + 1\n",
    "    return f'{year}Q{quarter}'\n",
    "order_df['Calendar Year']=order_df.apply(lambda x:convert_to_year_quarter(x['year'],x['month']),axis=1)\n",
    "forecast_group='Pr Plk'\n",
    "order_df_filter=order_df.loc[order_df['forecast_group']=='Pr Plk']\n",
    "order_df_filter=order_df_filter.groupby(['Calendar Year','Region Name','District Name'])['Order Volume (STD)'].sum().reset_index()"
   ]
  },
  {
   "cell_type": "code",
   "execution_count": 82,
   "metadata": {},
   "outputs": [],
   "source": [
    "# dodge_df=dodge_df.loc[dodge_df['Housing Type']!='High']"
   ]
  },
  {
   "cell_type": "code",
   "execution_count": 101,
   "metadata": {},
   "outputs": [],
   "source": [
    "# dodge_df_sf=dodge_df.loc[dodge_df['Housing Type']=='Detached']\n",
    "# dodge_df_mf=dodge_df.loc[dodge_df['Housing Type']=='Low']"
   ]
  },
  {
   "cell_type": "code",
   "execution_count": 103,
   "metadata": {},
   "outputs": [],
   "source": [
    "# dodge_df_sf['Calendar - Quarter'].replace({'Q1':'Q2','Q2':'Q3','Q3':'Q4','Q4':'Q1'},inplace=True)\n",
    "# dodge_df['Calendar - Quarter'].replace({'Q1':'Q7','Q7':'Q9'})"
   ]
  },
  {
   "cell_type": "code",
   "execution_count": 4,
   "metadata": {},
   "outputs": [],
   "source": [
    "# dodge_df_sf.loc[dodge_df_sf['Calendar - Quarter']=='Q1',['Calendar - Year']]=dodge_df_sf.loc[dodge_df_sf['Calendar - Quarter']=='Q1','Calendar - Year']+1"
   ]
  },
  {
   "cell_type": "code",
   "execution_count": 5,
   "metadata": {},
   "outputs": [],
   "source": [
    "# dodge_df_sf.reset_index(drop=True,inplace=True)"
   ]
  },
  {
   "cell_type": "code",
   "execution_count": 6,
   "metadata": {},
   "outputs": [],
   "source": [
    "dodge_df['Calendar Year']=dodge_df['Calendar - Year'].astype('str')+dodge_df['Calendar - Quarter'].astype('str')\n",
    "dodge_df=dodge_df.drop(['Calendar - Year','Calendar - Quarter'],axis=1)\n",
    "dodge_df=dodge_df.groupby(['Calendar Year','Region Name'])['Units'].sum().reset_index()"
   ]
  },
  {
   "cell_type": "code",
   "execution_count": 7,
   "metadata": {},
   "outputs": [],
   "source": [
    "merge_df=order_df_filter.merge(dodge_df,on=['Calendar Year','Region Name'],how='left')\n",
    "# merge_df['Calendar Year']=pd.to_datetime(merge_df['Calendar Year'])"
   ]
  },
  {
   "cell_type": "code",
   "execution_count": 8,
   "metadata": {},
   "outputs": [],
   "source": [
    "rr_data\n",
    "rr_data=rr_data.drop(['District','District Number','Sub Division','Division'],axis=1)\n"
   ]
  },
  {
   "cell_type": "code",
   "execution_count": 9,
   "metadata": {},
   "outputs": [],
   "source": [
    "merge_df=merge_df.merge(rr_data,on=['Calendar Year','Region Name','District Name'],how='left')"
   ]
  },
  {
   "cell_type": "code",
   "execution_count": 10,
   "metadata": {},
   "outputs": [
    {
     "data": {
      "text/plain": [
       "0"
      ]
     },
     "execution_count": 10,
     "metadata": {},
     "output_type": "execute_result"
    }
   ],
   "source": [
    "merge_df.duplicated().sum()"
   ]
  },
  {
   "cell_type": "code",
   "execution_count": 11,
   "metadata": {},
   "outputs": [],
   "source": [
    "df=merge_df.loc[merge_df['Region Name']=='Carolinas']"
   ]
  },
  {
   "cell_type": "code",
   "execution_count": 12,
   "metadata": {},
   "outputs": [],
   "source": [
    "df['Calendar Year']=pd.to_datetime(df['Calendar Year'])\n",
    "df.reset_index(drop=True,inplace=True)"
   ]
  },
  {
   "cell_type": "code",
   "execution_count": 13,
   "metadata": {},
   "outputs": [],
   "source": [
    "df=df.groupby(by=['Calendar Year'])['Project Count','Units','Order Volume (STD)'].sum().reset_index()"
   ]
  },
  {
   "cell_type": "code",
   "execution_count": 14,
   "metadata": {},
   "outputs": [],
   "source": [
    "df=df.set_index('Calendar Year')"
   ]
  },
  {
   "cell_type": "code",
   "execution_count": 15,
   "metadata": {},
   "outputs": [
    {
     "data": {
      "text/html": [
       "<div>\n",
       "<style scoped>\n",
       "    .dataframe tbody tr th:only-of-type {\n",
       "        vertical-align: middle;\n",
       "    }\n",
       "\n",
       "    .dataframe tbody tr th {\n",
       "        vertical-align: top;\n",
       "    }\n",
       "\n",
       "    .dataframe thead th {\n",
       "        text-align: right;\n",
       "    }\n",
       "</style>\n",
       "<table border=\"1\" class=\"dataframe\">\n",
       "  <thead>\n",
       "    <tr style=\"text-align: right;\">\n",
       "      <th></th>\n",
       "      <th>Project Count</th>\n",
       "      <th>Units</th>\n",
       "      <th>Order Volume (STD)</th>\n",
       "    </tr>\n",
       "    <tr>\n",
       "      <th>Calendar Year</th>\n",
       "      <th></th>\n",
       "      <th></th>\n",
       "      <th></th>\n",
       "    </tr>\n",
       "  </thead>\n",
       "  <tbody>\n",
       "    <tr>\n",
       "      <th>2013-04-01</th>\n",
       "      <td>98436.0</td>\n",
       "      <td>74130.000000</td>\n",
       "      <td>7271118.25</td>\n",
       "    </tr>\n",
       "    <tr>\n",
       "      <th>2013-07-01</th>\n",
       "      <td>99557.0</td>\n",
       "      <td>70728.000000</td>\n",
       "      <td>7009235.21</td>\n",
       "    </tr>\n",
       "    <tr>\n",
       "      <th>2013-10-01</th>\n",
       "      <td>100268.0</td>\n",
       "      <td>64470.000000</td>\n",
       "      <td>6759348.91</td>\n",
       "    </tr>\n",
       "    <tr>\n",
       "      <th>2014-01-01</th>\n",
       "      <td>100760.0</td>\n",
       "      <td>60822.000000</td>\n",
       "      <td>6466595.75</td>\n",
       "    </tr>\n",
       "    <tr>\n",
       "      <th>2014-04-01</th>\n",
       "      <td>101248.0</td>\n",
       "      <td>71106.000000</td>\n",
       "      <td>7426870.50</td>\n",
       "    </tr>\n",
       "    <tr>\n",
       "      <th>2014-07-01</th>\n",
       "      <td>101924.0</td>\n",
       "      <td>63975.000000</td>\n",
       "      <td>7962189.75</td>\n",
       "    </tr>\n",
       "    <tr>\n",
       "      <th>2014-10-01</th>\n",
       "      <td>102639.0</td>\n",
       "      <td>64359.000000</td>\n",
       "      <td>7029540.50</td>\n",
       "    </tr>\n",
       "    <tr>\n",
       "      <th>2015-01-01</th>\n",
       "      <td>103859.0</td>\n",
       "      <td>70485.000000</td>\n",
       "      <td>7168168.00</td>\n",
       "    </tr>\n",
       "    <tr>\n",
       "      <th>2015-04-01</th>\n",
       "      <td>105031.0</td>\n",
       "      <td>84378.000000</td>\n",
       "      <td>6580265.75</td>\n",
       "    </tr>\n",
       "    <tr>\n",
       "      <th>2015-07-01</th>\n",
       "      <td>106102.0</td>\n",
       "      <td>83055.000000</td>\n",
       "      <td>7152415.75</td>\n",
       "    </tr>\n",
       "    <tr>\n",
       "      <th>2015-10-01</th>\n",
       "      <td>107064.0</td>\n",
       "      <td>67350.000000</td>\n",
       "      <td>6445479.50</td>\n",
       "    </tr>\n",
       "    <tr>\n",
       "      <th>2016-01-01</th>\n",
       "      <td>107992.0</td>\n",
       "      <td>86922.000000</td>\n",
       "      <td>7866818.25</td>\n",
       "    </tr>\n",
       "    <tr>\n",
       "      <th>2016-04-01</th>\n",
       "      <td>108915.0</td>\n",
       "      <td>87495.000000</td>\n",
       "      <td>8921523.75</td>\n",
       "    </tr>\n",
       "    <tr>\n",
       "      <th>2016-07-01</th>\n",
       "      <td>109830.0</td>\n",
       "      <td>77007.000000</td>\n",
       "      <td>8248350.25</td>\n",
       "    </tr>\n",
       "    <tr>\n",
       "      <th>2016-10-01</th>\n",
       "      <td>110801.0</td>\n",
       "      <td>75951.000000</td>\n",
       "      <td>8585117.75</td>\n",
       "    </tr>\n",
       "    <tr>\n",
       "      <th>2017-01-01</th>\n",
       "      <td>111949.0</td>\n",
       "      <td>97170.000000</td>\n",
       "      <td>11186280.00</td>\n",
       "    </tr>\n",
       "    <tr>\n",
       "      <th>2017-04-01</th>\n",
       "      <td>113272.0</td>\n",
       "      <td>92103.000000</td>\n",
       "      <td>9685697.50</td>\n",
       "    </tr>\n",
       "    <tr>\n",
       "      <th>2017-07-01</th>\n",
       "      <td>114428.0</td>\n",
       "      <td>95790.000000</td>\n",
       "      <td>8832297.00</td>\n",
       "    </tr>\n",
       "    <tr>\n",
       "      <th>2017-10-01</th>\n",
       "      <td>115160.0</td>\n",
       "      <td>87126.000000</td>\n",
       "      <td>9248080.00</td>\n",
       "    </tr>\n",
       "    <tr>\n",
       "      <th>2018-01-01</th>\n",
       "      <td>118310.0</td>\n",
       "      <td>94845.000000</td>\n",
       "      <td>9872629.75</td>\n",
       "    </tr>\n",
       "    <tr>\n",
       "      <th>2018-04-01</th>\n",
       "      <td>119607.0</td>\n",
       "      <td>103293.000000</td>\n",
       "      <td>8952403.75</td>\n",
       "    </tr>\n",
       "    <tr>\n",
       "      <th>2018-07-01</th>\n",
       "      <td>120418.0</td>\n",
       "      <td>92559.000000</td>\n",
       "      <td>9797059.50</td>\n",
       "    </tr>\n",
       "    <tr>\n",
       "      <th>2018-10-01</th>\n",
       "      <td>120473.0</td>\n",
       "      <td>85086.000000</td>\n",
       "      <td>9199171.50</td>\n",
       "    </tr>\n",
       "    <tr>\n",
       "      <th>2019-01-01</th>\n",
       "      <td>123086.0</td>\n",
       "      <td>84900.000000</td>\n",
       "      <td>12575908.00</td>\n",
       "    </tr>\n",
       "    <tr>\n",
       "      <th>2019-04-01</th>\n",
       "      <td>124151.0</td>\n",
       "      <td>101208.000000</td>\n",
       "      <td>10323252.75</td>\n",
       "    </tr>\n",
       "    <tr>\n",
       "      <th>2019-07-01</th>\n",
       "      <td>125480.0</td>\n",
       "      <td>96879.000000</td>\n",
       "      <td>10172190.75</td>\n",
       "    </tr>\n",
       "    <tr>\n",
       "      <th>2019-10-01</th>\n",
       "      <td>127075.0</td>\n",
       "      <td>94500.000000</td>\n",
       "      <td>10275664.00</td>\n",
       "    </tr>\n",
       "    <tr>\n",
       "      <th>2020-01-01</th>\n",
       "      <td>132073.0</td>\n",
       "      <td>95565.000000</td>\n",
       "      <td>13078217.75</td>\n",
       "    </tr>\n",
       "    <tr>\n",
       "      <th>2020-04-01</th>\n",
       "      <td>135528.0</td>\n",
       "      <td>95880.000000</td>\n",
       "      <td>9875017.75</td>\n",
       "    </tr>\n",
       "    <tr>\n",
       "      <th>2020-07-01</th>\n",
       "      <td>138788.0</td>\n",
       "      <td>116544.000000</td>\n",
       "      <td>12439620.25</td>\n",
       "    </tr>\n",
       "    <tr>\n",
       "      <th>2020-10-01</th>\n",
       "      <td>141335.0</td>\n",
       "      <td>114132.000000</td>\n",
       "      <td>13672524.50</td>\n",
       "    </tr>\n",
       "    <tr>\n",
       "      <th>2021-01-01</th>\n",
       "      <td>147070.0</td>\n",
       "      <td>123960.000000</td>\n",
       "      <td>13119076.00</td>\n",
       "    </tr>\n",
       "    <tr>\n",
       "      <th>2021-04-01</th>\n",
       "      <td>151139.0</td>\n",
       "      <td>133113.000000</td>\n",
       "      <td>17920039.50</td>\n",
       "    </tr>\n",
       "    <tr>\n",
       "      <th>2021-07-01</th>\n",
       "      <td>155714.0</td>\n",
       "      <td>134589.000000</td>\n",
       "      <td>18501651.25</td>\n",
       "    </tr>\n",
       "    <tr>\n",
       "      <th>2021-10-01</th>\n",
       "      <td>160295.0</td>\n",
       "      <td>110817.000000</td>\n",
       "      <td>19493217.00</td>\n",
       "    </tr>\n",
       "    <tr>\n",
       "      <th>2022-01-01</th>\n",
       "      <td>168289.0</td>\n",
       "      <td>131235.000000</td>\n",
       "      <td>17311588.00</td>\n",
       "    </tr>\n",
       "    <tr>\n",
       "      <th>2022-04-01</th>\n",
       "      <td>172795.0</td>\n",
       "      <td>135930.000000</td>\n",
       "      <td>20019616.00</td>\n",
       "    </tr>\n",
       "    <tr>\n",
       "      <th>2022-07-01</th>\n",
       "      <td>175028.0</td>\n",
       "      <td>103833.798450</td>\n",
       "      <td>16259561.00</td>\n",
       "    </tr>\n",
       "    <tr>\n",
       "      <th>2022-10-01</th>\n",
       "      <td>174440.0</td>\n",
       "      <td>108550.630290</td>\n",
       "      <td>16989519.00</td>\n",
       "    </tr>\n",
       "    <tr>\n",
       "      <th>2023-01-01</th>\n",
       "      <td>176103.0</td>\n",
       "      <td>108954.683940</td>\n",
       "      <td>18005301.50</td>\n",
       "    </tr>\n",
       "    <tr>\n",
       "      <th>2023-04-01</th>\n",
       "      <td>174228.0</td>\n",
       "      <td>114751.891497</td>\n",
       "      <td>18744372.50</td>\n",
       "    </tr>\n",
       "    <tr>\n",
       "      <th>2023-07-01</th>\n",
       "      <td>171636.0</td>\n",
       "      <td>105779.573574</td>\n",
       "      <td>6139854.00</td>\n",
       "    </tr>\n",
       "  </tbody>\n",
       "</table>\n",
       "</div>"
      ],
      "text/plain": [
       "               Project Count          Units  Order Volume (STD)\n",
       "Calendar Year                                                  \n",
       "2013-04-01           98436.0   74130.000000          7271118.25\n",
       "2013-07-01           99557.0   70728.000000          7009235.21\n",
       "2013-10-01          100268.0   64470.000000          6759348.91\n",
       "2014-01-01          100760.0   60822.000000          6466595.75\n",
       "2014-04-01          101248.0   71106.000000          7426870.50\n",
       "2014-07-01          101924.0   63975.000000          7962189.75\n",
       "2014-10-01          102639.0   64359.000000          7029540.50\n",
       "2015-01-01          103859.0   70485.000000          7168168.00\n",
       "2015-04-01          105031.0   84378.000000          6580265.75\n",
       "2015-07-01          106102.0   83055.000000          7152415.75\n",
       "2015-10-01          107064.0   67350.000000          6445479.50\n",
       "2016-01-01          107992.0   86922.000000          7866818.25\n",
       "2016-04-01          108915.0   87495.000000          8921523.75\n",
       "2016-07-01          109830.0   77007.000000          8248350.25\n",
       "2016-10-01          110801.0   75951.000000          8585117.75\n",
       "2017-01-01          111949.0   97170.000000         11186280.00\n",
       "2017-04-01          113272.0   92103.000000          9685697.50\n",
       "2017-07-01          114428.0   95790.000000          8832297.00\n",
       "2017-10-01          115160.0   87126.000000          9248080.00\n",
       "2018-01-01          118310.0   94845.000000          9872629.75\n",
       "2018-04-01          119607.0  103293.000000          8952403.75\n",
       "2018-07-01          120418.0   92559.000000          9797059.50\n",
       "2018-10-01          120473.0   85086.000000          9199171.50\n",
       "2019-01-01          123086.0   84900.000000         12575908.00\n",
       "2019-04-01          124151.0  101208.000000         10323252.75\n",
       "2019-07-01          125480.0   96879.000000         10172190.75\n",
       "2019-10-01          127075.0   94500.000000         10275664.00\n",
       "2020-01-01          132073.0   95565.000000         13078217.75\n",
       "2020-04-01          135528.0   95880.000000          9875017.75\n",
       "2020-07-01          138788.0  116544.000000         12439620.25\n",
       "2020-10-01          141335.0  114132.000000         13672524.50\n",
       "2021-01-01          147070.0  123960.000000         13119076.00\n",
       "2021-04-01          151139.0  133113.000000         17920039.50\n",
       "2021-07-01          155714.0  134589.000000         18501651.25\n",
       "2021-10-01          160295.0  110817.000000         19493217.00\n",
       "2022-01-01          168289.0  131235.000000         17311588.00\n",
       "2022-04-01          172795.0  135930.000000         20019616.00\n",
       "2022-07-01          175028.0  103833.798450         16259561.00\n",
       "2022-10-01          174440.0  108550.630290         16989519.00\n",
       "2023-01-01          176103.0  108954.683940         18005301.50\n",
       "2023-04-01          174228.0  114751.891497         18744372.50\n",
       "2023-07-01          171636.0  105779.573574          6139854.00"
      ]
     },
     "execution_count": 15,
     "metadata": {},
     "output_type": "execute_result"
    }
   ],
   "source": [
    "df"
   ]
  },
  {
   "cell_type": "code",
   "execution_count": 57,
   "metadata": {},
   "outputs": [],
   "source": [
    "seq_size=5\n",
    "x=[]\n",
    "y=[]\n",
    "\n",
    "for i in range(len(df) - seq_size - 1):\n",
    "    # Extract the current window (input sequence) from the DataFrame\n",
    "    w=df.iloc[i:(i + seq_size), :]\n",
    "    x.append(list(np.array(w).ravel()))\n",
    "    w=df.iloc[(i + seq_size), :]\n",
    "    y.append(list(np.array(w).ravel()))\n",
    "    \n",
    "    "
   ]
  },
  {
   "cell_type": "code",
   "execution_count": null,
   "metadata": {},
   "outputs": [],
   "source": [
    "def to_sequences(df, seq_size=1):\n",
    "\n",
    "    x = []  # List to store the input sequences (windows)\n",
    "    y = []  # List to store the output values (targets)\n",
    "\n",
    "    for i in range(len(df) - seq_size - 1):\n",
    "        # Extract the current window (input sequence) from the DataFrame\n",
    "        window = df[i:(i + seq_size), 0]\n",
    "        x.append(list(np.array(window).ravel()))\n",
    "\n",
    "        # Get the target value corresponding to the next time step after the input sequence\n",
    "        y.append(df[i + seq_size, 0])\n",
    "\n",
    "    # Convert the lists to numpy arrays for further processing\n",
    "    return np.array(x), np.array(y)\n"
   ]
  },
  {
   "cell_type": "code",
   "execution_count": 58,
   "metadata": {},
   "outputs": [],
   "source": [
    "model=RandomForestRegressor(n_estimators=30)"
   ]
  },
  {
   "cell_type": "code",
   "execution_count": 60,
   "metadata": {},
   "outputs": [],
   "source": [
    "x=np.array(x)\n",
    "y=np.array(y)"
   ]
  },
  {
   "cell_type": "code",
   "execution_count": 61,
   "metadata": {},
   "outputs": [],
   "source": [
    "x=x[:-6,:]\n",
    "y=y[:-6,:] \n",
    "x_test=x[-6:,:]\n",
    "y_test=y[-6:,:]"
   ]
  },
  {
   "cell_type": "code",
   "execution_count": 62,
   "metadata": {},
   "outputs": [
    {
     "data": {
      "text/html": [
       "<style>#sk-container-id-2 {color: black;background-color: white;}#sk-container-id-2 pre{padding: 0;}#sk-container-id-2 div.sk-toggleable {background-color: white;}#sk-container-id-2 label.sk-toggleable__label {cursor: pointer;display: block;width: 100%;margin-bottom: 0;padding: 0.3em;box-sizing: border-box;text-align: center;}#sk-container-id-2 label.sk-toggleable__label-arrow:before {content: \"▸\";float: left;margin-right: 0.25em;color: #696969;}#sk-container-id-2 label.sk-toggleable__label-arrow:hover:before {color: black;}#sk-container-id-2 div.sk-estimator:hover label.sk-toggleable__label-arrow:before {color: black;}#sk-container-id-2 div.sk-toggleable__content {max-height: 0;max-width: 0;overflow: hidden;text-align: left;background-color: #f0f8ff;}#sk-container-id-2 div.sk-toggleable__content pre {margin: 0.2em;color: black;border-radius: 0.25em;background-color: #f0f8ff;}#sk-container-id-2 input.sk-toggleable__control:checked~div.sk-toggleable__content {max-height: 200px;max-width: 100%;overflow: auto;}#sk-container-id-2 input.sk-toggleable__control:checked~label.sk-toggleable__label-arrow:before {content: \"▾\";}#sk-container-id-2 div.sk-estimator input.sk-toggleable__control:checked~label.sk-toggleable__label {background-color: #d4ebff;}#sk-container-id-2 div.sk-label input.sk-toggleable__control:checked~label.sk-toggleable__label {background-color: #d4ebff;}#sk-container-id-2 input.sk-hidden--visually {border: 0;clip: rect(1px 1px 1px 1px);clip: rect(1px, 1px, 1px, 1px);height: 1px;margin: -1px;overflow: hidden;padding: 0;position: absolute;width: 1px;}#sk-container-id-2 div.sk-estimator {font-family: monospace;background-color: #f0f8ff;border: 1px dotted black;border-radius: 0.25em;box-sizing: border-box;margin-bottom: 0.5em;}#sk-container-id-2 div.sk-estimator:hover {background-color: #d4ebff;}#sk-container-id-2 div.sk-parallel-item::after {content: \"\";width: 100%;border-bottom: 1px solid gray;flex-grow: 1;}#sk-container-id-2 div.sk-label:hover label.sk-toggleable__label {background-color: #d4ebff;}#sk-container-id-2 div.sk-serial::before {content: \"\";position: absolute;border-left: 1px solid gray;box-sizing: border-box;top: 0;bottom: 0;left: 50%;z-index: 0;}#sk-container-id-2 div.sk-serial {display: flex;flex-direction: column;align-items: center;background-color: white;padding-right: 0.2em;padding-left: 0.2em;position: relative;}#sk-container-id-2 div.sk-item {position: relative;z-index: 1;}#sk-container-id-2 div.sk-parallel {display: flex;align-items: stretch;justify-content: center;background-color: white;position: relative;}#sk-container-id-2 div.sk-item::before, #sk-container-id-2 div.sk-parallel-item::before {content: \"\";position: absolute;border-left: 1px solid gray;box-sizing: border-box;top: 0;bottom: 0;left: 50%;z-index: -1;}#sk-container-id-2 div.sk-parallel-item {display: flex;flex-direction: column;z-index: 1;position: relative;background-color: white;}#sk-container-id-2 div.sk-parallel-item:first-child::after {align-self: flex-end;width: 50%;}#sk-container-id-2 div.sk-parallel-item:last-child::after {align-self: flex-start;width: 50%;}#sk-container-id-2 div.sk-parallel-item:only-child::after {width: 0;}#sk-container-id-2 div.sk-dashed-wrapped {border: 1px dashed gray;margin: 0 0.4em 0.5em 0.4em;box-sizing: border-box;padding-bottom: 0.4em;background-color: white;}#sk-container-id-2 div.sk-label label {font-family: monospace;font-weight: bold;display: inline-block;line-height: 1.2em;}#sk-container-id-2 div.sk-label-container {text-align: center;}#sk-container-id-2 div.sk-container {/* jupyter's `normalize.less` sets `[hidden] { display: none; }` but bootstrap.min.css set `[hidden] { display: none !important; }` so we also need the `!important` here to be able to override the default hidden behavior on the sphinx rendered scikit-learn.org. See: https://github.com/scikit-learn/scikit-learn/issues/21755 */display: inline-block !important;position: relative;}#sk-container-id-2 div.sk-text-repr-fallback {display: none;}</style><div id=\"sk-container-id-2\" class=\"sk-top-container\"><div class=\"sk-text-repr-fallback\"><pre>RandomForestRegressor(n_estimators=30)</pre><b>In a Jupyter environment, please rerun this cell to show the HTML representation or trust the notebook. <br />On GitHub, the HTML representation is unable to render, please try loading this page with nbviewer.org.</b></div><div class=\"sk-container\" hidden><div class=\"sk-item\"><div class=\"sk-estimator sk-toggleable\"><input class=\"sk-toggleable__control sk-hidden--visually\" id=\"sk-estimator-id-2\" type=\"checkbox\" checked><label for=\"sk-estimator-id-2\" class=\"sk-toggleable__label sk-toggleable__label-arrow\">RandomForestRegressor</label><div class=\"sk-toggleable__content\"><pre>RandomForestRegressor(n_estimators=30)</pre></div></div></div></div></div>"
      ],
      "text/plain": [
       "RandomForestRegressor(n_estimators=30)"
      ]
     },
     "execution_count": 62,
     "metadata": {},
     "output_type": "execute_result"
    }
   ],
   "source": [
    "model.fit(x,y)"
   ]
  },
  {
   "cell_type": "code",
   "execution_count": 64,
   "metadata": {},
   "outputs": [],
   "source": [
    "\n",
    "y_p=model.predict(x_test)"
   ]
  },
  {
   "cell_type": "code",
   "execution_count": 70,
   "metadata": {},
   "outputs": [
    {
     "data": {
      "text/plain": [
       "array([[  101924.  ,    63975.  ,  7962189.75],\n",
       "       [  102639.  ,    64359.  ,  7029540.5 ],\n",
       "       [  103859.  ,    70485.  ,  7168168.  ],\n",
       "       [  105031.  ,    84378.  ,  6580265.75],\n",
       "       [  106102.  ,    83055.  ,  7152415.75],\n",
       "       [  107064.  ,    67350.  ,  6445479.5 ],\n",
       "       [  107992.  ,    86922.  ,  7866818.25],\n",
       "       [  108915.  ,    87495.  ,  8921523.75],\n",
       "       [  109830.  ,    77007.  ,  8248350.25],\n",
       "       [  110801.  ,    75951.  ,  8585117.75],\n",
       "       [  111949.  ,    97170.  , 11186280.  ],\n",
       "       [  113272.  ,    92103.  ,  9685697.5 ],\n",
       "       [  114428.  ,    95790.  ,  8832297.  ],\n",
       "       [  115160.  ,    87126.  ,  9248080.  ],\n",
       "       [  118310.  ,    94845.  ,  9872629.75],\n",
       "       [  119607.  ,   103293.  ,  8952403.75],\n",
       "       [  120418.  ,    92559.  ,  9797059.5 ],\n",
       "       [  120473.  ,    85086.  ,  9199171.5 ],\n",
       "       [  123086.  ,    84900.  , 12575908.  ],\n",
       "       [  124151.  ,   101208.  , 10323252.75],\n",
       "       [  125480.  ,    96879.  , 10172190.75],\n",
       "       [  127075.  ,    94500.  , 10275664.  ],\n",
       "       [  132073.  ,    95565.  , 13078217.75],\n",
       "       [  135528.  ,    95880.  ,  9875017.75],\n",
       "       [  138788.  ,   116544.  , 12439620.25],\n",
       "       [  141335.  ,   114132.  , 13672524.5 ],\n",
       "       [  147070.  ,   123960.  , 13119076.  ],\n",
       "       [  151139.  ,   133113.  , 17920039.5 ],\n",
       "       [  155714.  ,   134589.  , 18501651.25],\n",
       "       [  160295.  ,   110817.  , 19493217.  ]])"
      ]
     },
     "execution_count": 70,
     "metadata": {},
     "output_type": "execute_result"
    }
   ],
   "source": [
    "y"
   ]
  },
  {
   "cell_type": "code",
   "execution_count": 71,
   "metadata": {},
   "outputs": [
    {
     "data": {
      "text/plain": [
       "array([[  138788.  ,   116544.  , 12439620.25],\n",
       "       [  141335.  ,   114132.  , 13672524.5 ],\n",
       "       [  147070.  ,   123960.  , 13119076.  ],\n",
       "       [  151139.  ,   133113.  , 17920039.5 ],\n",
       "       [  155714.  ,   134589.  , 18501651.25],\n",
       "       [  160295.  ,   110817.  , 19493217.  ]])"
      ]
     },
     "execution_count": 71,
     "metadata": {},
     "output_type": "execute_result"
    }
   ],
   "source": [
    "y_test"
   ]
  },
  {
   "cell_type": "code",
   "execution_count": 66,
   "metadata": {},
   "outputs": [
    {
     "data": {
      "text/plain": [
       "767177.4888888892"
      ]
     },
     "execution_count": 66,
     "metadata": {},
     "output_type": "execute_result"
    }
   ],
   "source": [
    "mean_absolute_error(y_test[:,2],y_p[:,2])"
   ]
  },
  {
   "cell_type": "code",
   "execution_count": 67,
   "metadata": {},
   "outputs": [
    {
     "data": {
      "text/plain": [
       "0.04681774322511937"
      ]
     },
     "execution_count": 67,
     "metadata": {},
     "output_type": "execute_result"
    }
   ],
   "source": [
    "mean_absolute_percentage_error(y_test[:,2],y_p[:,2])"
   ]
  },
  {
   "cell_type": "code",
   "execution_count": null,
   "metadata": {},
   "outputs": [],
   "source": []
  }
 ],
 "metadata": {
  "kernelspec": {
   "display_name": "jameshardie",
   "language": "python",
   "name": "python3"
  },
  "language_info": {
   "codemirror_mode": {
    "name": "ipython",
    "version": 3
   },
   "file_extension": ".py",
   "mimetype": "text/x-python",
   "name": "python",
   "nbconvert_exporter": "python",
   "pygments_lexer": "ipython3",
   "version": "3.8.2"
  },
  "orig_nbformat": 4
 },
 "nbformat": 4,
 "nbformat_minor": 2
}

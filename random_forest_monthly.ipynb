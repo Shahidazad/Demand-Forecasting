{
 "cells": [
  {
   "cell_type": "code",
   "execution_count": 1,
   "metadata": {},
   "outputs": [
    {
     "name": "stderr",
     "output_type": "stream",
     "text": [
      "<frozen importlib._bootstrap>:219: RuntimeWarning: scipy._lib.messagestream.MessageStream size changed, may indicate binary incompatibility. Expected 56 from C header, got 64 from PyObject\n"
     ]
    }
   ],
   "source": [
    "import pandas as pd\n",
    "import matplotlib.pyplot as plt\n",
    "import datetime\n",
    "import warnings\n",
    "import seaborn as sns\n",
    "from sklearn.ensemble  import RandomForestRegressor\n",
    "from sklearn.metrics import mean_absolute_error,mean_absolute_percentage_error\n",
    "warnings.filterwarnings('ignore')\n",
    "from sklearn.preprocessing import LabelEncoder\n",
    "import numpy as np"
   ]
  },
  {
   "cell_type": "code",
   "execution_count": 97,
   "metadata": {},
   "outputs": [],
   "source": [
    "order_df=pd.read_parquet('tezcatli_orders_data.parquet')\n",
    "dodge_df=pd.read_excel('Housing Starts Analytics.xlsx')\n",
    "rr_data=pd.read_csv('r&r.csv')"
   ]
  },
  {
   "cell_type": "code",
   "execution_count": 98,
   "metadata": {},
   "outputs": [],
   "source": [
    "region='Carolinas'\n",
    "forecast_group='Pr Plk'\n",
    "order_df['Order Create Date']=pd.to_datetime(order_df['Order Create Date'])\n",
    "order_df=order_df.loc[order_df['Region Name']!='Export/Interco']\n",
    "order_df=order_df[order_df['Region Name']==region]\n",
    "order_df.loc[order_df['forecast_group']==forecast_group]\n",
    "# order_df=order_df.loc[order_df['Product Segment'].isin(['Exterior','Interior'])]\n",
    "order_df=order_df[[ 'Order Create Date',\n",
    "       'Region Name', 'District Name', 'forecast_group', 'Order Volume (STD)']]\n",
    "\n",
    "order_df['year'] = order_df['Order Create Date'].dt.year\n",
    "order_df['month'] = order_df['Order Create Date'].dt.month\n",
    "order_df=order_df.sort_values(by='Order Create Date').reset_index(drop=True)\n",
    "def convert_to_year_quarter(year,month):\n",
    "    year = year\n",
    "    quarter = (month - 1) // 3 + 1\n",
    "    return f'{year}Q{quarter}'\n",
    "order_df['Calendar Year']=order_df.apply(lambda x:convert_to_year_quarter(x['year'],x['month']),axis=1)\n",
    "\n",
    "order_df_filter=order_df\n"
   ]
  },
  {
   "cell_type": "code",
   "execution_count": 101,
   "metadata": {},
   "outputs": [
    {
     "data": {
      "text/html": [
       "<div>\n",
       "<style scoped>\n",
       "    .dataframe tbody tr th:only-of-type {\n",
       "        vertical-align: middle;\n",
       "    }\n",
       "\n",
       "    .dataframe tbody tr th {\n",
       "        vertical-align: top;\n",
       "    }\n",
       "\n",
       "    .dataframe thead th {\n",
       "        text-align: right;\n",
       "    }\n",
       "</style>\n",
       "<table border=\"1\" class=\"dataframe\">\n",
       "  <thead>\n",
       "    <tr style=\"text-align: right;\">\n",
       "      <th></th>\n",
       "      <th>Order Create Date</th>\n",
       "      <th>Region Name</th>\n",
       "      <th>District Name</th>\n",
       "      <th>Order Volume (STD)</th>\n",
       "    </tr>\n",
       "  </thead>\n",
       "  <tbody>\n",
       "    <tr>\n",
       "      <th>0</th>\n",
       "      <td>2013-04-01</td>\n",
       "      <td>Carolinas</td>\n",
       "      <td>East Carolinas</td>\n",
       "      <td>45540.00</td>\n",
       "    </tr>\n",
       "    <tr>\n",
       "      <th>1</th>\n",
       "      <td>2013-04-01</td>\n",
       "      <td>Carolinas</td>\n",
       "      <td>West Carolinas</td>\n",
       "      <td>57088.50</td>\n",
       "    </tr>\n",
       "    <tr>\n",
       "      <th>2</th>\n",
       "      <td>2013-04-02</td>\n",
       "      <td>Carolinas</td>\n",
       "      <td>East Carolinas</td>\n",
       "      <td>16725.00</td>\n",
       "    </tr>\n",
       "    <tr>\n",
       "      <th>3</th>\n",
       "      <td>2013-04-02</td>\n",
       "      <td>Carolinas</td>\n",
       "      <td>Virginia</td>\n",
       "      <td>9444.50</td>\n",
       "    </tr>\n",
       "    <tr>\n",
       "      <th>4</th>\n",
       "      <td>2013-04-02</td>\n",
       "      <td>Carolinas</td>\n",
       "      <td>West Carolinas</td>\n",
       "      <td>26529.75</td>\n",
       "    </tr>\n",
       "    <tr>\n",
       "      <th>...</th>\n",
       "      <td>...</td>\n",
       "      <td>...</td>\n",
       "      <td>...</td>\n",
       "      <td>...</td>\n",
       "    </tr>\n",
       "    <tr>\n",
       "      <th>7431</th>\n",
       "      <td>2023-07-28</td>\n",
       "      <td>Carolinas</td>\n",
       "      <td>West Carolinas</td>\n",
       "      <td>155851.50</td>\n",
       "    </tr>\n",
       "    <tr>\n",
       "      <th>7432</th>\n",
       "      <td>2023-07-30</td>\n",
       "      <td>Carolinas</td>\n",
       "      <td>West Carolinas</td>\n",
       "      <td>18975.00</td>\n",
       "    </tr>\n",
       "    <tr>\n",
       "      <th>7433</th>\n",
       "      <td>2023-07-31</td>\n",
       "      <td>Carolinas</td>\n",
       "      <td>East Carolinas</td>\n",
       "      <td>94452.00</td>\n",
       "    </tr>\n",
       "    <tr>\n",
       "      <th>7434</th>\n",
       "      <td>2023-07-31</td>\n",
       "      <td>Carolinas</td>\n",
       "      <td>Virginia</td>\n",
       "      <td>13282.50</td>\n",
       "    </tr>\n",
       "    <tr>\n",
       "      <th>7435</th>\n",
       "      <td>2023-07-31</td>\n",
       "      <td>Carolinas</td>\n",
       "      <td>West Carolinas</td>\n",
       "      <td>423418.50</td>\n",
       "    </tr>\n",
       "  </tbody>\n",
       "</table>\n",
       "<p>7436 rows × 4 columns</p>\n",
       "</div>"
      ],
      "text/plain": [
       "     Order Create Date Region Name   District Name  Order Volume (STD)\n",
       "0           2013-04-01   Carolinas  East Carolinas            45540.00\n",
       "1           2013-04-01   Carolinas  West Carolinas            57088.50\n",
       "2           2013-04-02   Carolinas  East Carolinas            16725.00\n",
       "3           2013-04-02   Carolinas        Virginia             9444.50\n",
       "4           2013-04-02   Carolinas  West Carolinas            26529.75\n",
       "...                ...         ...             ...                 ...\n",
       "7431        2023-07-28   Carolinas  West Carolinas           155851.50\n",
       "7432        2023-07-30   Carolinas  West Carolinas            18975.00\n",
       "7433        2023-07-31   Carolinas  East Carolinas            94452.00\n",
       "7434        2023-07-31   Carolinas        Virginia            13282.50\n",
       "7435        2023-07-31   Carolinas  West Carolinas           423418.50\n",
       "\n",
       "[7436 rows x 4 columns]"
      ]
     },
     "execution_count": 101,
     "metadata": {},
     "output_type": "execute_result"
    }
   ],
   "source": [
    "order_df_filter=order_df_filter.groupby(['Order Create Date','Region Name','District Name'])['Order Volume (STD)'].sum().reset_index()\n",
    "order_df_filter"
   ]
  },
  {
   "cell_type": "code",
   "execution_count": 112,
   "metadata": {},
   "outputs": [],
   "source": [
    "order_df_filter['year'] = order_df_filter['Order Create Date'].dt.year\n",
    "order_df_filter['month'] = order_df_filter['Order Create Date'].dt.month\n",
    "order_df_filter = order_df_filter.groupby(['year', 'month'])['Order Volume (STD)'].sum().reset_index()\n",
    "order_df_filter['Order Create Date']=order_df_filter['year'].astype('string')+'-'+order_df_filter['month'].astype('string')+'-01'\n",
    "order_df_filter['Order Create Date']=pd.to_datetime(order_df_filter['Order Create Date'])"
   ]
  },
  {
   "cell_type": "code",
   "execution_count": 101,
   "metadata": {},
   "outputs": [],
   "source": [
    "# dodge_df_sf=dodge_df.loc[dodge_df['Housing Type']=='Detached']\n",
    "# dodge_df_mf=dodge_df.loc[dodge_df['Housing Type']=='Low']"
   ]
  },
  {
   "cell_type": "code",
   "execution_count": 103,
   "metadata": {},
   "outputs": [],
   "source": [
    "# dodge_df_sf['Calendar - Quarter'].replace({'Q1':'Q2','Q2':'Q3','Q3':'Q4','Q4':'Q1'},inplace=True)\n",
    "# dodge_df['Calendar - Quarter'].replace({'Q1':'Q7','Q7':'Q9'})"
   ]
  },
  {
   "cell_type": "code",
   "execution_count": 4,
   "metadata": {},
   "outputs": [],
   "source": [
    "# dodge_df_sf.loc[dodge_df_sf['Calendar - Quarter']=='Q1',['Calendar - Year']]=dodge_df_sf.loc[dodge_df_sf['Calendar - Quarter']=='Q1','Calendar - Year']+1"
   ]
  },
  {
   "cell_type": "code",
   "execution_count": 5,
   "metadata": {},
   "outputs": [],
   "source": [
    "# dodge_df_sf.reset_index(drop=True,inplace=True)"
   ]
  },
  {
   "cell_type": "code",
   "execution_count": 102,
   "metadata": {},
   "outputs": [],
   "source": [
    "dodge_df=dodge_df.loc[dodge_df['Housing Type']!='High']\n",
    "dodge_df['Calendar Year']=dodge_df['Calendar - Year'].astype('str')+dodge_df['Calendar - Quarter'].astype('str')\n",
    "dodge_df=dodge_df.drop(['Calendar - Year','Calendar - Quarter'],axis=1)\n",
    "dodge_df=dodge_df.groupby(['Calendar Year','Region Name'])['Units'].sum().reset_index()"
   ]
  },
  {
   "cell_type": "code",
   "execution_count": 105,
   "metadata": {},
   "outputs": [],
   "source": [
    "dodge_df['Order Create Date']=pd.to_datetime(dodge_df['Calendar Year'])"
   ]
  },
  {
   "cell_type": "code",
   "execution_count": 117,
   "metadata": {},
   "outputs": [],
   "source": [
    "dodge_df=dodge_df[dodge_df['Region Name']==region]"
   ]
  },
  {
   "cell_type": "code",
   "execution_count": 118,
   "metadata": {},
   "outputs": [],
   "source": [
    "merge_df=order_df_filter.merge(dodge_df,on=['Order Create Date'],how='left')\n",
    "# merge_df['Calendar Year']=pd.to_datetime(merge_df['Calendar Year'])\n"
   ]
  },
  {
   "cell_type": "code",
   "execution_count": 120,
   "metadata": {},
   "outputs": [],
   "source": [
    "merge_df.fillna(method='ffill',inplace=True)"
   ]
  },
  {
   "cell_type": "code",
   "execution_count": 122,
   "metadata": {},
   "outputs": [],
   "source": [
    "merge_df['Units']=merge_df['Units']/3"
   ]
  },
  {
   "cell_type": "code",
   "execution_count": 123,
   "metadata": {},
   "outputs": [],
   "source": [
    "rr_data\n",
    "rr_data=rr_data.drop(['District','District Number','Sub Division','Division'],axis=1)"
   ]
  },
  {
   "cell_type": "code",
   "execution_count": 127,
   "metadata": {},
   "outputs": [],
   "source": [
    "rr_data['Order Create Date']=pd.to_datetime(rr_data['Calendar Year'])"
   ]
  },
  {
   "cell_type": "code",
   "execution_count": 131,
   "metadata": {},
   "outputs": [],
   "source": [
    "rr_data=rr_data[rr_data['Region Name']==region]"
   ]
  },
  {
   "cell_type": "code",
   "execution_count": 137,
   "metadata": {},
   "outputs": [
    {
     "data": {
      "text/html": [
       "<div>\n",
       "<style scoped>\n",
       "    .dataframe tbody tr th:only-of-type {\n",
       "        vertical-align: middle;\n",
       "    }\n",
       "\n",
       "    .dataframe tbody tr th {\n",
       "        vertical-align: top;\n",
       "    }\n",
       "\n",
       "    .dataframe thead th {\n",
       "        text-align: right;\n",
       "    }\n",
       "</style>\n",
       "<table border=\"1\" class=\"dataframe\">\n",
       "  <thead>\n",
       "    <tr style=\"text-align: right;\">\n",
       "      <th></th>\n",
       "      <th>Region Name</th>\n",
       "      <th>District Name</th>\n",
       "      <th>Calendar Year</th>\n",
       "      <th>Project Count</th>\n",
       "      <th>Order Create Date</th>\n",
       "    </tr>\n",
       "  </thead>\n",
       "  <tbody>\n",
       "    <tr>\n",
       "      <th>1564</th>\n",
       "      <td>Carolinas</td>\n",
       "      <td>East Carolinas</td>\n",
       "      <td>2004Q1</td>\n",
       "      <td>27850</td>\n",
       "      <td>2004-01-01</td>\n",
       "    </tr>\n",
       "    <tr>\n",
       "      <th>1565</th>\n",
       "      <td>Carolinas</td>\n",
       "      <td>East Carolinas</td>\n",
       "      <td>2004Q2</td>\n",
       "      <td>28217</td>\n",
       "      <td>2004-04-01</td>\n",
       "    </tr>\n",
       "    <tr>\n",
       "      <th>1566</th>\n",
       "      <td>Carolinas</td>\n",
       "      <td>East Carolinas</td>\n",
       "      <td>2004Q3</td>\n",
       "      <td>28638</td>\n",
       "      <td>2004-07-01</td>\n",
       "    </tr>\n",
       "    <tr>\n",
       "      <th>1567</th>\n",
       "      <td>Carolinas</td>\n",
       "      <td>East Carolinas</td>\n",
       "      <td>2004Q4</td>\n",
       "      <td>29120</td>\n",
       "      <td>2004-10-01</td>\n",
       "    </tr>\n",
       "    <tr>\n",
       "      <th>1568</th>\n",
       "      <td>Carolinas</td>\n",
       "      <td>East Carolinas</td>\n",
       "      <td>2005Q1</td>\n",
       "      <td>29652</td>\n",
       "      <td>2005-01-01</td>\n",
       "    </tr>\n",
       "    <tr>\n",
       "      <th>...</th>\n",
       "      <td>...</td>\n",
       "      <td>...</td>\n",
       "      <td>...</td>\n",
       "      <td>...</td>\n",
       "      <td>...</td>\n",
       "    </tr>\n",
       "    <tr>\n",
       "      <th>1835</th>\n",
       "      <td>Carolinas</td>\n",
       "      <td>West Carolinas</td>\n",
       "      <td>2025Q4</td>\n",
       "      <td>74780</td>\n",
       "      <td>2025-10-01</td>\n",
       "    </tr>\n",
       "    <tr>\n",
       "      <th>1836</th>\n",
       "      <td>Carolinas</td>\n",
       "      <td>West Carolinas</td>\n",
       "      <td>2026Q1</td>\n",
       "      <td>76181</td>\n",
       "      <td>2026-01-01</td>\n",
       "    </tr>\n",
       "    <tr>\n",
       "      <th>1837</th>\n",
       "      <td>Carolinas</td>\n",
       "      <td>West Carolinas</td>\n",
       "      <td>2026Q2</td>\n",
       "      <td>76299</td>\n",
       "      <td>2026-04-01</td>\n",
       "    </tr>\n",
       "    <tr>\n",
       "      <th>1838</th>\n",
       "      <td>Carolinas</td>\n",
       "      <td>West Carolinas</td>\n",
       "      <td>2026Q3</td>\n",
       "      <td>76166</td>\n",
       "      <td>2026-07-01</td>\n",
       "    </tr>\n",
       "    <tr>\n",
       "      <th>1839</th>\n",
       "      <td>Carolinas</td>\n",
       "      <td>West Carolinas</td>\n",
       "      <td>2026Q4</td>\n",
       "      <td>75606</td>\n",
       "      <td>2026-10-01</td>\n",
       "    </tr>\n",
       "  </tbody>\n",
       "</table>\n",
       "<p>276 rows × 5 columns</p>\n",
       "</div>"
      ],
      "text/plain": [
       "     Region Name   District Name Calendar Year  Project Count  \\\n",
       "1564   Carolinas  East Carolinas        2004Q1          27850   \n",
       "1565   Carolinas  East Carolinas        2004Q2          28217   \n",
       "1566   Carolinas  East Carolinas        2004Q3          28638   \n",
       "1567   Carolinas  East Carolinas        2004Q4          29120   \n",
       "1568   Carolinas  East Carolinas        2005Q1          29652   \n",
       "...          ...             ...           ...            ...   \n",
       "1835   Carolinas  West Carolinas        2025Q4          74780   \n",
       "1836   Carolinas  West Carolinas        2026Q1          76181   \n",
       "1837   Carolinas  West Carolinas        2026Q2          76299   \n",
       "1838   Carolinas  West Carolinas        2026Q3          76166   \n",
       "1839   Carolinas  West Carolinas        2026Q4          75606   \n",
       "\n",
       "     Order Create Date  \n",
       "1564        2004-01-01  \n",
       "1565        2004-04-01  \n",
       "1566        2004-07-01  \n",
       "1567        2004-10-01  \n",
       "1568        2005-01-01  \n",
       "...                ...  \n",
       "1835        2025-10-01  \n",
       "1836        2026-01-01  \n",
       "1837        2026-04-01  \n",
       "1838        2026-07-01  \n",
       "1839        2026-10-01  \n",
       "\n",
       "[276 rows x 5 columns]"
      ]
     },
     "execution_count": 137,
     "metadata": {},
     "output_type": "execute_result"
    }
   ],
   "source": [
    "rr_data"
   ]
  },
  {
   "cell_type": "code",
   "execution_count": 140,
   "metadata": {},
   "outputs": [],
   "source": [
    "rr_data=rr_data.groupby('Order Create Date')['Project Count'].sum().reset_index()"
   ]
  },
  {
   "cell_type": "code",
   "execution_count": 142,
   "metadata": {},
   "outputs": [],
   "source": [
    "merge_df=merge_df.merge(rr_data,on=['Order Create Date'],how='left')"
   ]
  },
  {
   "cell_type": "code",
   "execution_count": 144,
   "metadata": {},
   "outputs": [],
   "source": [
    "merge_df.fillna(method='ffill',inplace=True)\n",
    "merge_df['Project Count']=merge_df['Project Count']/3"
   ]
  },
  {
   "cell_type": "code",
   "execution_count": 147,
   "metadata": {},
   "outputs": [],
   "source": [
    "df=merge_df.loc[merge_df['Region Name']==region]"
   ]
  },
  {
   "cell_type": "code",
   "execution_count": 152,
   "metadata": {},
   "outputs": [],
   "source": [
    "df=df[['Order Create Date','Units','Project Count','Order Volume (STD)']]"
   ]
  },
  {
   "cell_type": "code",
   "execution_count": 12,
   "metadata": {},
   "outputs": [],
   "source": [
    "# df['Calendar Year']=pd.to_datetime(df['Calendar Year'])\n",
    "# df.reset_index(drop=True,inplace=True)"
   ]
  },
  {
   "cell_type": "code",
   "execution_count": 13,
   "metadata": {},
   "outputs": [],
   "source": [
    "# df=df.groupby(by=['Calendar Year'])['Project Count','Units','Order Volume (STD)'].sum().reset_index()"
   ]
  },
  {
   "cell_type": "code",
   "execution_count": 14,
   "metadata": {},
   "outputs": [],
   "source": [
    "# df=df.set_index('Calendar Year')"
   ]
  },
  {
   "cell_type": "code",
   "execution_count": 33,
   "metadata": {},
   "outputs": [],
   "source": [
    "# df['Order Create Date']=df.index"
   ]
  },
  {
   "cell_type": "code",
   "execution_count": 154,
   "metadata": {},
   "outputs": [
    {
     "data": {
      "text/html": [
       "<div>\n",
       "<style scoped>\n",
       "    .dataframe tbody tr th:only-of-type {\n",
       "        vertical-align: middle;\n",
       "    }\n",
       "\n",
       "    .dataframe tbody tr th {\n",
       "        vertical-align: top;\n",
       "    }\n",
       "\n",
       "    .dataframe thead th {\n",
       "        text-align: right;\n",
       "    }\n",
       "</style>\n",
       "<table border=\"1\" class=\"dataframe\">\n",
       "  <thead>\n",
       "    <tr style=\"text-align: right;\">\n",
       "      <th></th>\n",
       "      <th>Order Create Date</th>\n",
       "      <th>Units</th>\n",
       "      <th>Project Count</th>\n",
       "      <th>Order Volume (STD)</th>\n",
       "    </tr>\n",
       "  </thead>\n",
       "  <tbody>\n",
       "    <tr>\n",
       "      <th>0</th>\n",
       "      <td>2013-04-01</td>\n",
       "      <td>7069.000000</td>\n",
       "      <td>32812.000000</td>\n",
       "      <td>2515675.75</td>\n",
       "    </tr>\n",
       "    <tr>\n",
       "      <th>1</th>\n",
       "      <td>2013-05-01</td>\n",
       "      <td>7069.000000</td>\n",
       "      <td>32812.000000</td>\n",
       "      <td>2458630.50</td>\n",
       "    </tr>\n",
       "    <tr>\n",
       "      <th>2</th>\n",
       "      <td>2013-06-01</td>\n",
       "      <td>7069.000000</td>\n",
       "      <td>32812.000000</td>\n",
       "      <td>2296812.00</td>\n",
       "    </tr>\n",
       "    <tr>\n",
       "      <th>3</th>\n",
       "      <td>2013-07-01</td>\n",
       "      <td>6568.666667</td>\n",
       "      <td>33185.666667</td>\n",
       "      <td>2273197.25</td>\n",
       "    </tr>\n",
       "    <tr>\n",
       "      <th>4</th>\n",
       "      <td>2013-08-01</td>\n",
       "      <td>6568.666667</td>\n",
       "      <td>33185.666667</td>\n",
       "      <td>2325700.71</td>\n",
       "    </tr>\n",
       "    <tr>\n",
       "      <th>...</th>\n",
       "      <td>...</td>\n",
       "      <td>...</td>\n",
       "      <td>...</td>\n",
       "      <td>...</td>\n",
       "    </tr>\n",
       "    <tr>\n",
       "      <th>119</th>\n",
       "      <td>2023-03-01</td>\n",
       "      <td>9599.409327</td>\n",
       "      <td>58701.000000</td>\n",
       "      <td>8232933.50</td>\n",
       "    </tr>\n",
       "    <tr>\n",
       "      <th>120</th>\n",
       "      <td>2023-04-01</td>\n",
       "      <td>10389.214304</td>\n",
       "      <td>58076.000000</td>\n",
       "      <td>6180111.00</td>\n",
       "    </tr>\n",
       "    <tr>\n",
       "      <th>121</th>\n",
       "      <td>2023-05-01</td>\n",
       "      <td>10389.214304</td>\n",
       "      <td>58076.000000</td>\n",
       "      <td>5743970.00</td>\n",
       "    </tr>\n",
       "    <tr>\n",
       "      <th>122</th>\n",
       "      <td>2023-06-01</td>\n",
       "      <td>10389.214304</td>\n",
       "      <td>58076.000000</td>\n",
       "      <td>6820291.50</td>\n",
       "    </tr>\n",
       "    <tr>\n",
       "      <th>123</th>\n",
       "      <td>2023-07-01</td>\n",
       "      <td>9562.110711</td>\n",
       "      <td>57212.000000</td>\n",
       "      <td>6139854.00</td>\n",
       "    </tr>\n",
       "  </tbody>\n",
       "</table>\n",
       "<p>124 rows × 4 columns</p>\n",
       "</div>"
      ],
      "text/plain": [
       "    Order Create Date         Units  Project Count  Order Volume (STD)\n",
       "0          2013-04-01   7069.000000   32812.000000          2515675.75\n",
       "1          2013-05-01   7069.000000   32812.000000          2458630.50\n",
       "2          2013-06-01   7069.000000   32812.000000          2296812.00\n",
       "3          2013-07-01   6568.666667   33185.666667          2273197.25\n",
       "4          2013-08-01   6568.666667   33185.666667          2325700.71\n",
       "..                ...           ...            ...                 ...\n",
       "119        2023-03-01   9599.409327   58701.000000          8232933.50\n",
       "120        2023-04-01  10389.214304   58076.000000          6180111.00\n",
       "121        2023-05-01  10389.214304   58076.000000          5743970.00\n",
       "122        2023-06-01  10389.214304   58076.000000          6820291.50\n",
       "123        2023-07-01   9562.110711   57212.000000          6139854.00\n",
       "\n",
       "[124 rows x 4 columns]"
      ]
     },
     "execution_count": 154,
     "metadata": {},
     "output_type": "execute_result"
    }
   ],
   "source": [
    "df"
   ]
  },
  {
   "cell_type": "code",
   "execution_count": 153,
   "metadata": {},
   "outputs": [],
   "source": [
    "df=df.sort_values(by='Order Create Date')"
   ]
  },
  {
   "cell_type": "code",
   "execution_count": 60,
   "metadata": {},
   "outputs": [],
   "source": [
    "# df_date=pd.date_range(start=df['Order Create Date'].astype('str').iloc[0],end=df['Order Create Date'].astype('str').iloc[-1],freq='MS')\n",
    "# df_date=pd.DataFrame(df_date,columns=['Order Create Date'])"
   ]
  },
  {
   "cell_type": "code",
   "execution_count": 64,
   "metadata": {},
   "outputs": [],
   "source": [
    "# df=df_date.merge(df,on='Order Create Date',how='left')"
   ]
  },
  {
   "cell_type": "code",
   "execution_count": 68,
   "metadata": {},
   "outputs": [],
   "source": [
    "# df.fillna(method='ffill',inplace=True)"
   ]
  },
  {
   "cell_type": "code",
   "execution_count": 74,
   "metadata": {},
   "outputs": [],
   "source": [
    "# df[['Project Count','Units','Order Volume (STD)']]=df[['Project Count','Units','Order Volume (STD)']]/3"
   ]
  },
  {
   "cell_type": "code",
   "execution_count": 157,
   "metadata": {},
   "outputs": [],
   "source": [
    "df=df.set_index('Order Create Date')"
   ]
  },
  {
   "cell_type": "code",
   "execution_count": 158,
   "metadata": {},
   "outputs": [],
   "source": [
    "seq_size=5\n",
    "x=[]\n",
    "y=[]\n",
    "\n",
    "for i in range(len(df) - seq_size - 1):\n",
    "    # Extract the current window (input sequence) from the DataFrame\n",
    "    w=df.iloc[i:(i + seq_size), :]\n",
    "    x.append(list(np.array(w).ravel()))\n",
    "    w=df.iloc[(i + seq_size), :]\n",
    "    y.append(list(np.array(w).ravel()))\n",
    "    \n",
    "    "
   ]
  },
  {
   "cell_type": "code",
   "execution_count": 159,
   "metadata": {},
   "outputs": [],
   "source": [
    "def to_sequences(df, seq_size=1):\n",
    "\n",
    "    x = []  # List to store the input sequences (windows)\n",
    "    y = []  # List to store the output values (targets)\n",
    "\n",
    "    for i in range(len(df) - seq_size - 1):\n",
    "        # Extract the current window (input sequence) from the DataFrame\n",
    "        window = df[i:(i + seq_size), 0]\n",
    "        x.append(list(np.array(window).ravel()))\n",
    "\n",
    "        # Get the target value corresponding to the next time step after the input sequence\n",
    "        y.append(df[i + seq_size, 0])\n",
    "\n",
    "    # Convert the lists to numpy arrays for further processing\n",
    "    return np.array(x), np.array(y)\n"
   ]
  },
  {
   "cell_type": "code",
   "execution_count": 160,
   "metadata": {},
   "outputs": [],
   "source": [
    "model=RandomForestRegressor(n_estimators=30)"
   ]
  },
  {
   "cell_type": "code",
   "execution_count": 161,
   "metadata": {},
   "outputs": [],
   "source": [
    "x=np.array(x)\n",
    "y=np.array(y)"
   ]
  },
  {
   "cell_type": "code",
   "execution_count": 162,
   "metadata": {},
   "outputs": [],
   "source": [
    "x=x[:-6,:]\n",
    "y=y[:-6,:] \n",
    "x_test=x[-6:,:]\n",
    "y_test=y[-6:,:]"
   ]
  },
  {
   "cell_type": "code",
   "execution_count": 163,
   "metadata": {},
   "outputs": [
    {
     "data": {
      "text/html": [
       "<style>#sk-container-id-2 {color: black;background-color: white;}#sk-container-id-2 pre{padding: 0;}#sk-container-id-2 div.sk-toggleable {background-color: white;}#sk-container-id-2 label.sk-toggleable__label {cursor: pointer;display: block;width: 100%;margin-bottom: 0;padding: 0.3em;box-sizing: border-box;text-align: center;}#sk-container-id-2 label.sk-toggleable__label-arrow:before {content: \"▸\";float: left;margin-right: 0.25em;color: #696969;}#sk-container-id-2 label.sk-toggleable__label-arrow:hover:before {color: black;}#sk-container-id-2 div.sk-estimator:hover label.sk-toggleable__label-arrow:before {color: black;}#sk-container-id-2 div.sk-toggleable__content {max-height: 0;max-width: 0;overflow: hidden;text-align: left;background-color: #f0f8ff;}#sk-container-id-2 div.sk-toggleable__content pre {margin: 0.2em;color: black;border-radius: 0.25em;background-color: #f0f8ff;}#sk-container-id-2 input.sk-toggleable__control:checked~div.sk-toggleable__content {max-height: 200px;max-width: 100%;overflow: auto;}#sk-container-id-2 input.sk-toggleable__control:checked~label.sk-toggleable__label-arrow:before {content: \"▾\";}#sk-container-id-2 div.sk-estimator input.sk-toggleable__control:checked~label.sk-toggleable__label {background-color: #d4ebff;}#sk-container-id-2 div.sk-label input.sk-toggleable__control:checked~label.sk-toggleable__label {background-color: #d4ebff;}#sk-container-id-2 input.sk-hidden--visually {border: 0;clip: rect(1px 1px 1px 1px);clip: rect(1px, 1px, 1px, 1px);height: 1px;margin: -1px;overflow: hidden;padding: 0;position: absolute;width: 1px;}#sk-container-id-2 div.sk-estimator {font-family: monospace;background-color: #f0f8ff;border: 1px dotted black;border-radius: 0.25em;box-sizing: border-box;margin-bottom: 0.5em;}#sk-container-id-2 div.sk-estimator:hover {background-color: #d4ebff;}#sk-container-id-2 div.sk-parallel-item::after {content: \"\";width: 100%;border-bottom: 1px solid gray;flex-grow: 1;}#sk-container-id-2 div.sk-label:hover label.sk-toggleable__label {background-color: #d4ebff;}#sk-container-id-2 div.sk-serial::before {content: \"\";position: absolute;border-left: 1px solid gray;box-sizing: border-box;top: 0;bottom: 0;left: 50%;z-index: 0;}#sk-container-id-2 div.sk-serial {display: flex;flex-direction: column;align-items: center;background-color: white;padding-right: 0.2em;padding-left: 0.2em;position: relative;}#sk-container-id-2 div.sk-item {position: relative;z-index: 1;}#sk-container-id-2 div.sk-parallel {display: flex;align-items: stretch;justify-content: center;background-color: white;position: relative;}#sk-container-id-2 div.sk-item::before, #sk-container-id-2 div.sk-parallel-item::before {content: \"\";position: absolute;border-left: 1px solid gray;box-sizing: border-box;top: 0;bottom: 0;left: 50%;z-index: -1;}#sk-container-id-2 div.sk-parallel-item {display: flex;flex-direction: column;z-index: 1;position: relative;background-color: white;}#sk-container-id-2 div.sk-parallel-item:first-child::after {align-self: flex-end;width: 50%;}#sk-container-id-2 div.sk-parallel-item:last-child::after {align-self: flex-start;width: 50%;}#sk-container-id-2 div.sk-parallel-item:only-child::after {width: 0;}#sk-container-id-2 div.sk-dashed-wrapped {border: 1px dashed gray;margin: 0 0.4em 0.5em 0.4em;box-sizing: border-box;padding-bottom: 0.4em;background-color: white;}#sk-container-id-2 div.sk-label label {font-family: monospace;font-weight: bold;display: inline-block;line-height: 1.2em;}#sk-container-id-2 div.sk-label-container {text-align: center;}#sk-container-id-2 div.sk-container {/* jupyter's `normalize.less` sets `[hidden] { display: none; }` but bootstrap.min.css set `[hidden] { display: none !important; }` so we also need the `!important` here to be able to override the default hidden behavior on the sphinx rendered scikit-learn.org. See: https://github.com/scikit-learn/scikit-learn/issues/21755 */display: inline-block !important;position: relative;}#sk-container-id-2 div.sk-text-repr-fallback {display: none;}</style><div id=\"sk-container-id-2\" class=\"sk-top-container\"><div class=\"sk-text-repr-fallback\"><pre>RandomForestRegressor(n_estimators=30)</pre><b>In a Jupyter environment, please rerun this cell to show the HTML representation or trust the notebook. <br />On GitHub, the HTML representation is unable to render, please try loading this page with nbviewer.org.</b></div><div class=\"sk-container\" hidden><div class=\"sk-item\"><div class=\"sk-estimator sk-toggleable\"><input class=\"sk-toggleable__control sk-hidden--visually\" id=\"sk-estimator-id-2\" type=\"checkbox\" checked><label for=\"sk-estimator-id-2\" class=\"sk-toggleable__label sk-toggleable__label-arrow\">RandomForestRegressor</label><div class=\"sk-toggleable__content\"><pre>RandomForestRegressor(n_estimators=30)</pre></div></div></div></div></div>"
      ],
      "text/plain": [
       "RandomForestRegressor(n_estimators=30)"
      ]
     },
     "execution_count": 163,
     "metadata": {},
     "output_type": "execute_result"
    }
   ],
   "source": [
    "model.fit(x,y)"
   ]
  },
  {
   "cell_type": "code",
   "execution_count": 164,
   "metadata": {},
   "outputs": [],
   "source": [
    "\n",
    "y_p=model.predict(x_test)"
   ]
  },
  {
   "cell_type": "code",
   "execution_count": 165,
   "metadata": {},
   "outputs": [
    {
     "data": {
      "text/plain": [
       "312909.5388888891"
      ]
     },
     "execution_count": 165,
     "metadata": {},
     "output_type": "execute_result"
    }
   ],
   "source": [
    "mean_absolute_error(y_test[:,2],y_p[:,2])"
   ]
  },
  {
   "cell_type": "code",
   "execution_count": 66,
   "metadata": {},
   "outputs": [
    {
     "data": {
      "text/plain": [
       "767177.4888888892"
      ]
     },
     "execution_count": 66,
     "metadata": {},
     "output_type": "execute_result"
    }
   ],
   "source": [
    "mean_absolute_error(y_test[:,2],y_p[:,2])"
   ]
  },
  {
   "cell_type": "code",
   "execution_count": 67,
   "metadata": {},
   "outputs": [
    {
     "data": {
      "text/plain": [
       "0.04681774322511937"
      ]
     },
     "execution_count": 67,
     "metadata": {},
     "output_type": "execute_result"
    }
   ],
   "source": [
    "mean_absolute_percentage_error(y_test[:,2],y_p[:,2])"
   ]
  },
  {
   "cell_type": "code",
   "execution_count": 166,
   "metadata": {},
   "outputs": [
    {
     "data": {
      "text/plain": [
       "0.06017531140240582"
      ]
     },
     "execution_count": 166,
     "metadata": {},
     "output_type": "execute_result"
    }
   ],
   "source": [
    "mean_absolute_percentage_error(y_test[:,2],y_p[:,2])"
   ]
  },
  {
   "cell_type": "code",
   "execution_count": 92,
   "metadata": {},
   "outputs": [
    {
     "data": {
      "text/plain": [
       "[<matplotlib.lines.Line2D at 0x7f01000b5a00>]"
      ]
     },
     "execution_count": 92,
     "metadata": {},
     "output_type": "execute_result"
    },
    {
     "data": {
      "image/png": "[encoded data removed]",
      "text/plain": [
       "<Figure size 640x480 with 1 Axes>"
      ]
     },
     "metadata": {},
     "output_type": "display_data"
    }
   ],
   "source": [
    "plt.plot(y_p[:,2])\n",
    "plt.plot(y[:,2])"
   ]
  },
  {
   "cell_type": "code",
   "execution_count": 168,
   "metadata": {},
   "outputs": [
    {
     "data": {
      "text/plain": [
       "[<matplotlib.lines.Line2D at 0x7f01310b2af0>]"
      ]
     },
     "execution_count": 168,
     "metadata": {},
     "output_type": "execute_result"
    },
    {
     "data": {
      "image/png": "[encoded data removed]",
      "text/plain": [
       "<Figure size 640x480 with 1 Axes>"
      ]
     },
     "metadata": {},
     "output_type": "display_data"
    }
   ],
   "source": [
    "plt.plot(y_p[:,2])\n",
    "plt.plot(y_test[:,2])"
   ]
  },
  {
   "cell_type": "code",
   "execution_count": 169,
   "metadata": {},
   "outputs": [],
   "source": [
    "\n",
    "y_p=model.predict(x)"
   ]
  },
  {
   "cell_type": "code",
   "execution_count": 170,
   "metadata": {},
   "outputs": [
    {
     "data": {
      "text/plain": [
       "[<matplotlib.lines.Line2D at 0x7f012ea53940>]"
      ]
     },
     "execution_count": 170,
     "metadata": {},
     "output_type": "execute_result"
    },
    {
     "data": {
      "image/png": "[encoded data removed]",
      "text/plain": [
       "<Figure size 640x480 with 1 Axes>"
      ]
     },
     "metadata": {},
     "output_type": "display_data"
    }
   ],
   "source": [
    "plt.plot(y_p[:,2])\n",
    "plt.plot(y[:,2])"
   ]
  },
  {
   "cell_type": "code",
   "execution_count": null,
   "metadata": {},
   "outputs": [],
   "source": []
  }
 ],
 "metadata": {
  "kernelspec": {
   "display_name": "jameshardie",
   "language": "python",
   "name": "python3"
  },
  "language_info": {
   "codemirror_mode": {
    "name": "ipython",
    "version": 3
   },
   "file_extension": ".py",
   "mimetype": "text/x-python",
   "name": "python",
   "nbconvert_exporter": "python",
   "pygments_lexer": "ipython3",
   "version": "3.8.2"
  },
  "orig_nbformat": 4
 },
 "nbformat": 4,
 "nbformat_minor": 2
}

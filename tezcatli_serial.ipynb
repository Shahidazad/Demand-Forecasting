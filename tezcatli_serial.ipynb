{
 "cells": [
  {
   "cell_type": "code",
   "execution_count": 2,
   "id": "8a422def-7172-4119-a8cf-42c44753cc14",
   "metadata": {},
   "outputs": [
    {
     "name": "stderr",
     "output_type": "stream",
     "text": [
      "/home/shahid/anaconda3/envs/jameshardie/lib/python3.7/site-packages/tqdm/auto.py:21: TqdmWarning: IProgress not found. Please update jupyter and ipywidgets. See https://ipywidgets.readthedocs.io/en/stable/user_install.html\n",
      "  from .autonotebook import tqdm as notebook_tqdm\n"
     ]
    }
   ],
   "source": [
    "import numpy as np\n",
    "import pandas as pd\n",
    "import datetime as dt\n",
    "from dateutil.relativedelta import relativedelta\n",
    "from tezcatli_scripts import load_data, utils, pre_process , write_to_database as w2d #, get_ts_features , fit_models,\n",
    "from tezcatli_scripts.fit_models import  Darts, Orbit\n",
    "\n",
    "### For tracking execution times\n",
    "from os import path\n",
    "import time\n",
    "#import random\n",
    "from random import getrandbits, seed\n",
    "import pickle\n",
    "\n",
    "#For reading options from command line\n",
    "import sys, getopt\n",
    "\n",
    "import warnings\n",
    "import matplotlib.pyplot as plt\n",
    "\n",
    "plt.rcParams['figure.figsize'] = [20,6]\n",
    "pd.set_option('display.max_columns',12)\n",
    "pd.set_option('display.width', 1000)"
   ]
  },
  {
   "cell_type": "code",
   "execution_count": 3,
   "id": "da45ab4b-a3d8-4dd2-a12b-237568070c75",
   "metadata": {},
   "outputs": [
    {
     "name": "stdout",
     "output_type": "stream",
     "text": [
      "starting of paralle.py\n",
      "paralle.py/parallel is printing\n"
     ]
    },
    {
     "name": "stderr",
     "output_type": "stream",
     "text": [
      "INFO:torch.distributed.nn.jit.instantiator:Created a temporary directory at /tmp/tmpr_ajnrvy\n",
      "INFO:torch.distributed.nn.jit.instantiator:Writing /tmp/tmpr_ajnrvy/_remote_module_non_scriptable.py\n"
     ]
    }
   ],
   "source": [
    "from darts.models import Prophet\n",
    "from darts.models import (\n",
    "    NaiveSeasonal,\n",
    "    NaiveDrift,\n",
    "    NaiveMean,\n",
    "    ExponentialSmoothing,\n",
    "    AutoARIMA,\n",
    "    #StandardRegressionModel,\n",
    "    Theta,\n",
    "    FFT,\n",
    "    Croston,\n",
    "    LightGBMModel,\n",
    "    RandomForest,\n",
    "    RegressionEnsembleModel,\n",
    "    TBATS,\n",
    "    BATS,\n",
    "    RegressionModel)\n",
    "from darts.metrics import mape, smape, mase\n",
    "from orbit.models import DLT\n"
   ]
  },
  {
   "cell_type": "code",
   "execution_count": 4,
   "id": "70aa45d4-fcc2-41d7-b1df-f03a8ccd1a72",
   "metadata": {},
   "outputs": [],
   "source": [
    "#%% Models to run ###\n",
    "model_frames = ['Darts','Orbit']\n",
    "dart_models = [ExponentialSmoothing(), NaiveSeasonal(), NaiveDrift(), NaiveMean(), AutoARIMA(), Theta(), FFT(), Prophet(),Croston(),LightGBMModel(lags=1),RandomForest(lags= 1,random_state=2309),RegressionEnsembleModel(forecasting_models=[ExponentialSmoothing(), NaiveSeasonal(),AutoARIMA(),TBATS()],regression_train_n_points=24),TBATS(),BATS(),RegressionModel(lags=1),RegressionModel(lags=10)]#, StandardRegressionModel()]\n",
    "dart_models_names = ['ExponentialSmoothing', 'NaiveSeasonal','NaiveDrift','NaiveMean','AutoARIMA','Theta', 'FFT','Prophet','Croston','LightGBMModel','RandomForest','RegressionEnsembleModel','TBATS','BATS','RegressionModelL1','RegressionModelL10']#, 'StandardRegression']\n",
    "models = [DLT(),ExponentialSmoothing(), NaiveSeasonal(), NaiveDrift(), NaiveMean(), AutoARIMA()]#, Theta(), FFT(), Prophet(),Croston(),LightGBMModel(lags=1),RandomForest(lags= 1,random_state=2309),RegressionEnsembleModel(forecasting_models=[ExponentialSmoothing(), NaiveSeasonal(),AutoARIMA(),TBATS()],regression_train_n_points=24),TBATS(),BATS(),RegressionModel(lags=1),RegressionModel(lags=10)]#, StandardRegressionModel()]\n",
    "models_names = ['Orbit','ExponentialSmoothing', 'NaiveSeasonal','NaiveDrift','NaiveMean','AutoARIMA']#,'Theta', 'FFT','Prophet','Croston','LightGBMModel','RandomForest','RegressionEnsembleModel','TBATS','BATS','RegressionModelL1','RegressionModelL10']#, 'StandardRegression']\n",
    "orbit_models = [DLT()]\n",
    "orbit_models_names = ['DampedLinearTrend']"
   ]
  },
  {
   "cell_type": "code",
   "execution_count": 5,
   "id": "f9d42487-31c5-48cb-93dd-6df5f3567b37",
   "metadata": {},
   "outputs": [
    {
     "name": "stdout",
     "output_type": "stream",
     "text": [
      "['Region_Name', 'forecast_group']\n"
     ]
    }
   ],
   "source": [
    "run_config = utils.read_params_in_from_json('run_config.json')\n",
    "group_key = run_config['dimensions'].split('-')\n",
    "#seed(2309)\n",
    "print(group_key)\n",
    "run_id = getrandbits(32)\n",
    "run_date = dt.datetime.today().date()\n",
    "run_datascientist = run_config['data_scientist']\n",
    "run_scope = run_config['scope']\n",
    "run_response = run_config['response']\n",
    "run_timegrain = run_config['timegrain']\n",
    "run_dimensions = run_config['dimensions']\n",
    "run_type = run_config['type']\n",
    "holdout_horizon = run_config['train_horizon']\n",
    "forecast_horizon = run_config['forecast_horizon']\n",
    "\n",
    "test_run = True\n",
    "\n",
    "write_file = 'yes'"
   ]
  },
  {
   "cell_type": "code",
   "execution_count": 6,
   "id": "86678cc2",
   "metadata": {},
   "outputs": [
    {
     "name": "stdout",
     "output_type": "stream",
     "text": [
      "run_id 2569319578\n",
      "run_date 2023-08-17\n",
      "run_datascientist shahid_azad\n",
      "holdout_horizon 5\n",
      "forecast_horizon 24\n"
     ]
    }
   ],
   "source": [
    "print('run_id',run_id)\n",
    "print('run_date',run_date)\n",
    "print('run_datascientist',run_datascientist)\n",
    "print('holdout_horizon',holdout_horizon)\n",
    "print('forecast_horizon',forecast_horizon)"
   ]
  },
  {
   "cell_type": "code",
   "execution_count": 8,
   "id": "b0510a9f-6cab-48af-8e55-50a0b18ceca6",
   "metadata": {},
   "outputs": [
    {
     "data": {
      "text/html": [
       "<div>\n",
       "<style scoped>\n",
       "    .dataframe tbody tr th:only-of-type {\n",
       "        vertical-align: middle;\n",
       "    }\n",
       "\n",
       "    .dataframe tbody tr th {\n",
       "        vertical-align: top;\n",
       "    }\n",
       "\n",
       "    .dataframe thead th {\n",
       "        text-align: right;\n",
       "    }\n",
       "</style>\n",
       "<table border=\"1\" class=\"dataframe\">\n",
       "  <thead>\n",
       "    <tr style=\"text-align: right;\">\n",
       "      <th></th>\n",
       "      <th>Order_Create_Date</th>\n",
       "      <th>Order_Volume_(STD)</th>\n",
       "      <th>group_key</th>\n",
       "      <th>run_id</th>\n",
       "    </tr>\n",
       "  </thead>\n",
       "  <tbody>\n",
       "    <tr>\n",
       "      <th>48936</th>\n",
       "      <td>2023-12-01</td>\n",
       "      <td>4046.4</td>\n",
       "      <td>Southwest_C+ Ma HLD</td>\n",
       "      <td>2688014460</td>\n",
       "    </tr>\n",
       "    <tr>\n",
       "      <th>48937</th>\n",
       "      <td>2024-01-01</td>\n",
       "      <td>369.6</td>\n",
       "      <td>Southwest_C+ Ma HLD</td>\n",
       "      <td>2688014460</td>\n",
       "    </tr>\n",
       "    <tr>\n",
       "      <th>48938</th>\n",
       "      <td>2024-02-01</td>\n",
       "      <td>552.8</td>\n",
       "      <td>Southwest_C+ Ma HLD</td>\n",
       "      <td>2688014460</td>\n",
       "    </tr>\n",
       "    <tr>\n",
       "      <th>48939</th>\n",
       "      <td>2024-03-01</td>\n",
       "      <td>929.6</td>\n",
       "      <td>Southwest_C+ Ma HLD</td>\n",
       "      <td>2688014460</td>\n",
       "    </tr>\n",
       "    <tr>\n",
       "      <th>48940</th>\n",
       "      <td>2024-04-01</td>\n",
       "      <td>3646.4</td>\n",
       "      <td>Southwest_C+ Ma HLD</td>\n",
       "      <td>2688014460</td>\n",
       "    </tr>\n",
       "  </tbody>\n",
       "</table>\n",
       "</div>"
      ],
      "text/plain": [
       "      Order_Create_Date  Order_Volume_(STD)            group_key      run_id\n",
       "48936        2023-12-01              4046.4  Southwest_C+ Ma HLD  2688014460\n",
       "48937        2024-01-01               369.6  Southwest_C+ Ma HLD  2688014460\n",
       "48938        2024-02-01               552.8  Southwest_C+ Ma HLD  2688014460\n",
       "48939        2024-03-01               929.6  Southwest_C+ Ma HLD  2688014460\n",
       "48940        2024-04-01              3646.4  Southwest_C+ Ma HLD  2688014460"
      ]
     },
     "execution_count": 8,
     "metadata": {},
     "output_type": "execute_result"
    }
   ],
   "source": [
    "prep_comp_prod = pd.read_pickle('prep_init.pkl')\n",
    "prep_comp_prod.tail()"
   ]
  },
  {
   "cell_type": "code",
   "execution_count": 11,
   "id": "ed10849c-337f-4128-b288-7da88f0de04e",
   "metadata": {},
   "outputs": [],
   "source": [
    "t_train_start = time.time()\n",
    "prod_dfs, prod_accs,failed_keys = [],[],[]\n",
    "#ts_feats = []\n",
    "## Certain stat models have constraints on length of time series , see later checks##\n",
    "time_models = ['ExponentialSmoothing']\n",
    "time_models2 = ['AutoARIMA']\n",
    "time_models3 = ['RegressionEnsembleModel','TBATS','BATS']\n",
    "cnt = 0\n",
    "keys = prep_comp_prod['group_key'].unique()"
   ]
  },
  {
   "cell_type": "code",
   "execution_count": 12,
   "id": "4f1132c3-a752-4f14-9a47-e544c1017d21",
   "metadata": {},
   "outputs": [],
   "source": [
    "#key = np.where(keys=='Midwest Central_C+ St Plk')\n",
    "#keys[key].item()\n",
    "key = 'Midwest Central_C+ St Plk'"
   ]
  },
  {
   "cell_type": "code",
   "execution_count": 13,
   "id": "d2faf5f4-06d7-45ac-bae8-6ef1045289f2",
   "metadata": {},
   "outputs": [
    {
     "data": {
      "text/html": [
       "<div>\n",
       "<style scoped>\n",
       "    .dataframe tbody tr th:only-of-type {\n",
       "        vertical-align: middle;\n",
       "    }\n",
       "\n",
       "    .dataframe tbody tr th {\n",
       "        vertical-align: top;\n",
       "    }\n",
       "\n",
       "    .dataframe thead th {\n",
       "        text-align: right;\n",
       "    }\n",
       "</style>\n",
       "<table border=\"1\" class=\"dataframe\">\n",
       "  <thead>\n",
       "    <tr style=\"text-align: right;\">\n",
       "      <th></th>\n",
       "      <th>Order_Create_Date</th>\n",
       "      <th>Order_Volume_(STD)</th>\n",
       "      <th>group_key</th>\n",
       "      <th>run_id</th>\n",
       "    </tr>\n",
       "  </thead>\n",
       "  <tbody>\n",
       "    <tr>\n",
       "      <th>10246</th>\n",
       "      <td>2015-04-01</td>\n",
       "      <td>1967361.25</td>\n",
       "      <td>Midwest Central_C+ St Plk</td>\n",
       "      <td>2688014460</td>\n",
       "    </tr>\n",
       "    <tr>\n",
       "      <th>10247</th>\n",
       "      <td>2015-05-01</td>\n",
       "      <td>1916091.00</td>\n",
       "      <td>Midwest Central_C+ St Plk</td>\n",
       "      <td>2688014460</td>\n",
       "    </tr>\n",
       "    <tr>\n",
       "      <th>10248</th>\n",
       "      <td>2015-06-01</td>\n",
       "      <td>2063669.25</td>\n",
       "      <td>Midwest Central_C+ St Plk</td>\n",
       "      <td>2688014460</td>\n",
       "    </tr>\n",
       "    <tr>\n",
       "      <th>10249</th>\n",
       "      <td>2015-07-01</td>\n",
       "      <td>1831827.50</td>\n",
       "      <td>Midwest Central_C+ St Plk</td>\n",
       "      <td>2688014460</td>\n",
       "    </tr>\n",
       "    <tr>\n",
       "      <th>10250</th>\n",
       "      <td>2015-08-01</td>\n",
       "      <td>1311524.75</td>\n",
       "      <td>Midwest Central_C+ St Plk</td>\n",
       "      <td>2688014460</td>\n",
       "    </tr>\n",
       "    <tr>\n",
       "      <th>...</th>\n",
       "      <td>...</td>\n",
       "      <td>...</td>\n",
       "      <td>...</td>\n",
       "      <td>...</td>\n",
       "    </tr>\n",
       "    <tr>\n",
       "      <th>10350</th>\n",
       "      <td>2023-12-01</td>\n",
       "      <td>1747686.75</td>\n",
       "      <td>Midwest Central_C+ St Plk</td>\n",
       "      <td>2688014460</td>\n",
       "    </tr>\n",
       "    <tr>\n",
       "      <th>10351</th>\n",
       "      <td>2024-01-01</td>\n",
       "      <td>1534704.00</td>\n",
       "      <td>Midwest Central_C+ St Plk</td>\n",
       "      <td>2688014460</td>\n",
       "    </tr>\n",
       "    <tr>\n",
       "      <th>10352</th>\n",
       "      <td>2024-02-01</td>\n",
       "      <td>2193432.25</td>\n",
       "      <td>Midwest Central_C+ St Plk</td>\n",
       "      <td>2688014460</td>\n",
       "    </tr>\n",
       "    <tr>\n",
       "      <th>10353</th>\n",
       "      <td>2024-03-01</td>\n",
       "      <td>2478356.75</td>\n",
       "      <td>Midwest Central_C+ St Plk</td>\n",
       "      <td>2688014460</td>\n",
       "    </tr>\n",
       "    <tr>\n",
       "      <th>10354</th>\n",
       "      <td>2024-04-01</td>\n",
       "      <td>1931112.25</td>\n",
       "      <td>Midwest Central_C+ St Plk</td>\n",
       "      <td>2688014460</td>\n",
       "    </tr>\n",
       "  </tbody>\n",
       "</table>\n",
       "<p>109 rows × 4 columns</p>\n",
       "</div>"
      ],
      "text/plain": [
       "      Order_Create_Date  Order_Volume_(STD)                  group_key      run_id\n",
       "10246        2015-04-01          1967361.25  Midwest Central_C+ St Plk  2688014460\n",
       "10247        2015-05-01          1916091.00  Midwest Central_C+ St Plk  2688014460\n",
       "10248        2015-06-01          2063669.25  Midwest Central_C+ St Plk  2688014460\n",
       "10249        2015-07-01          1831827.50  Midwest Central_C+ St Plk  2688014460\n",
       "10250        2015-08-01          1311524.75  Midwest Central_C+ St Plk  2688014460\n",
       "...                 ...                 ...                        ...         ...\n",
       "10350        2023-12-01          1747686.75  Midwest Central_C+ St Plk  2688014460\n",
       "10351        2024-01-01          1534704.00  Midwest Central_C+ St Plk  2688014460\n",
       "10352        2024-02-01          2193432.25  Midwest Central_C+ St Plk  2688014460\n",
       "10353        2024-03-01          2478356.75  Midwest Central_C+ St Plk  2688014460\n",
       "10354        2024-04-01          1931112.25  Midwest Central_C+ St Plk  2688014460\n",
       "\n",
       "[109 rows x 4 columns]"
      ]
     },
     "execution_count": 13,
     "metadata": {},
     "output_type": "execute_result"
    }
   ],
   "source": [
    "# filter data\n",
    "prod_df = prep_comp_prod[prep_comp_prod['group_key']==key]\n",
    "prod_df"
   ]
  },
  {
   "cell_type": "code",
   "execution_count": 14,
   "id": "c4281bf5-19dd-43d3-8dde-00b6162dc4e7",
   "metadata": {},
   "outputs": [],
   "source": [
    "models_list = list(zip(models,models_names))\n",
    "model_dfs, model_accs = [],[]"
   ]
  },
  {
   "cell_type": "code",
   "execution_count": 15,
   "id": "2b5bcdf2-d959-4ce5-8009-2c49077e48fc",
   "metadata": {},
   "outputs": [
    {
     "data": {
      "text/plain": [
       "[(<orbit.forecaster.full_bayes.FullBayesianForecaster at 0x7fb7d1cc4e90>,\n",
       "  'Orbit'),\n",
       " (ExponentialSmoothing(trend=ModelMode.ADDITIVE, damped=False, seasonal=SeasonalityMode.ADDITIVE, seasonal_periods=None, random_state=0),\n",
       "  'ExponentialSmoothing'),\n",
       " (NaiveSeasonal(K=1), 'NaiveSeasonal'),\n",
       " (NaiveDrift(), 'NaiveDrift'),\n",
       " (NaiveMean(), 'NaiveMean'),\n",
       " (AutoARIMA(add_encoders=None), 'AutoARIMA')]"
      ]
     },
     "execution_count": 15,
     "metadata": {},
     "output_type": "execute_result"
    }
   ],
   "source": [
    "models_list"
   ]
  },
  {
   "cell_type": "code",
   "execution_count": 16,
   "id": "dadbf052-01c1-422c-9103-cc8530cb2d04",
   "metadata": {},
   "outputs": [],
   "source": [
    "run_mofcst = dt.datetime(run_config['current_year'],run_config['current_month'],1)\n",
    "train_date = run_mofcst + relativedelta(months=-holdout_horizon)"
   ]
  },
  {
   "cell_type": "code",
   "execution_count": 23,
   "id": "e2cd10d2",
   "metadata": {},
   "outputs": [
    {
     "name": "stdout",
     "output_type": "stream",
     "text": [
      "train_date 2023-12-01 00:00:00\n",
      "run_mofcst 2024-05-01 00:00:00\n"
     ]
    }
   ],
   "source": [
    "print('train_date',train_date)\n",
    "print('run_mofcst',run_mofcst)"
   ]
  },
  {
   "cell_type": "code",
   "execution_count": 17,
   "id": "0506b55b-08cc-4026-9b7a-a2fd37ce3b4c",
   "metadata": {},
   "outputs": [],
   "source": [
    "log_file_path = path.join(path.dirname(path.abspath('params/log.conf')), 'log.conf')\n",
    "jhds_logger = utils.setup_logger(log_file_path)\n",
    "jhds_logger.info('Finished setup')"
   ]
  },
  {
   "cell_type": "code",
   "execution_count": 18,
   "id": "3e211391-8f7f-40fe-a8ac-8b9dc030ae92",
   "metadata": {},
   "outputs": [
    {
     "name": "stdout",
     "output_type": "stream",
     "text": [
      "model is training now fit_model/Orbit/train_model <orbit.forecaster.full_bayes.FullBayesianForecaster object at 0x7fb7d11c1750>\n"
     ]
    },
    {
     "name": "stdout",
     "output_type": "stream",
     "text": [
      "parallel/delayed is printing\n",
      "parallel/delayed is printing\n",
      "model is training now fit_model/Darts/train_model ExponentialSmoothing()\n",
      "parallel/delayed is printing\n",
      "parallel/delayed is printing\n",
      "model is training now fit_model/Darts/train_model NaiveSeasonal()\n",
      "parallel/delayed is printing\n",
      "parallel/delayed is printing\n",
      "model is training now fit_model/Darts/train_model NaiveDrift()\n",
      "parallel/delayed is printing\n",
      "parallel/delayed is printing\n",
      "model is training now fit_model/Darts/train_model NaiveMean()\n",
      "parallel/delayed is printing\n",
      "parallel/delayed is printing\n",
      "model is training now fit_model/Darts/train_model AutoARIMA()\n"
     ]
    },
    {
     "name": "stderr",
     "output_type": "stream",
     "text": [
      "/home/shahid/anaconda3/envs/jameshardie/lib/python3.7/site-packages/statsmodels/tsa/holtwinters/model.py:917: ConvergenceWarning: Optimization failed to converge. Check mle_retvals.\n",
      "  ConvergenceWarning,\n"
     ]
    },
    {
     "name": "stdout",
     "output_type": "stream",
     "text": [
      "parallel/delayed is printing\n",
      "parallel/delayed is printing\n",
      "Program finished in 3.034291146999749 seconds\n",
      "[component          Order_Volume_(STD)  model\n",
      "Order_Create_Date                           \n",
      "2023-12-01               2.451679e+06  Orbit\n",
      "2024-01-01               2.469601e+06  Orbit\n",
      "2024-02-01               2.350747e+06  Orbit\n",
      "2024-03-01               2.477421e+06  Orbit\n",
      "2024-04-01               2.107309e+06  Orbit, component          Order_Volume_(STD)                 model\n",
      "Order_Create_Date                                          \n",
      "2023-12-01               2.594438e+06  ExponentialSmoothing\n",
      "2024-01-01               2.314034e+06  ExponentialSmoothing\n",
      "2024-02-01               2.339418e+06  ExponentialSmoothing\n",
      "2024-03-01               2.456159e+06  ExponentialSmoothing\n",
      "2024-04-01               2.204377e+06  ExponentialSmoothing, component          Order_Volume_(STD)          model\n",
      "Order_Create_Date                                   \n",
      "2023-12-01                 1313500.75  NaiveSeasonal\n",
      "2024-01-01                 1313500.75  NaiveSeasonal\n",
      "2024-02-01                 1313500.75  NaiveSeasonal\n",
      "2024-03-01                 1313500.75  NaiveSeasonal\n",
      "2024-04-01                 1313500.75  NaiveSeasonal, component          Order_Volume_(STD)       model\n",
      "Order_Create_Date                                \n",
      "2023-12-01               1.307153e+06  NaiveDrift\n",
      "2024-01-01               1.300804e+06  NaiveDrift\n",
      "2024-02-01               1.294456e+06  NaiveDrift\n",
      "2024-03-01               1.288108e+06  NaiveDrift\n",
      "2024-04-01               1.281760e+06  NaiveDrift, component          Order_Volume_(STD)      model\n",
      "Order_Create_Date                               \n",
      "2023-12-01               1.923609e+06  NaiveMean\n",
      "2024-01-01               1.923609e+06  NaiveMean\n",
      "2024-02-01               1.923609e+06  NaiveMean\n",
      "2024-03-01               1.923609e+06  NaiveMean\n",
      "2024-04-01               1.923609e+06  NaiveMean, component          Order_Volume_(STD)      model\n",
      "Order_Create_Date                               \n",
      "2023-12-01               1.695092e+06  AutoARIMA\n",
      "2024-01-01               1.836585e+06  AutoARIMA\n",
      "2024-02-01               1.889051e+06  AutoARIMA\n",
      "2024-03-01               1.908505e+06  AutoARIMA\n",
      "2024-04-01               1.915719e+06  AutoARIMA] [        mape      smape      mase  model\n",
      "0  23.506488  19.182139  1.159086  Orbit,         mape      smape      mase                 model\n",
      "0  24.186443  20.011237  1.214412  ExponentialSmoothing,         mape     smape      mase          model\n",
      "0  31.671368  38.71844  1.948781  NaiveSeasonal,         mape     smape      mase       model\n",
      "0  32.616766  40.10248  2.004712  NaiveDrift,         mape      smape      mase      model\n",
      "0  14.096075  14.155231  0.820503  NaiveMean,         mape      smape      mase      model\n",
      "0  12.069388  12.531233  0.730753  AutoARIMA]\n"
     ]
    }
   ],
   "source": [
    "start_time = time.perf_counter()\n",
    "for model,name in list(zip(models,models_names)):\n",
    "    #### Instantiate model framework\n",
    "    if (name == 'Orbit'):\n",
    "        model_frame = Orbit(model,prod_df,run_mofcst,train_date=train_date,forecast_horizon=None)\n",
    "    else:\n",
    "        model_frame = Darts(model,prod_df, run_mofcst, train_date,forecast_horizon=None)\n",
    "    #print(model_frame)\n",
    "\n",
    "    #### Create time series\n",
    "    #prod_ts = pre_process.create_ts(prod_df,run_mofcst)\n",
    "    model_frame.prep_data()\n",
    "\n",
    "    #### Split train and test sets for holdout accuracy\n",
    "    #train,val = prod_ts.split_before(pd.Timestamp(train_date))\n",
    "    model_frame.split_data()\n",
    "    #TODO create fit function (returns model params)\n",
    "    # check for length , Expo can't handle less than 24, autoarima needs 30\n",
    "    if ( (len(model_frame.train)<24) & (name in time_models) ):\n",
    "        failed_keys.append((key,name))\n",
    "        continue\n",
    "    elif ( (len(model_frame.train)<30) & (name in time_models2)) :\n",
    "        failed_keys.append((key,name))\n",
    "        continue\n",
    "    elif ( (name in time_models3) & (model_frame.get_train_df_ordervol().tail(12).sum()<12) ):\n",
    "        failed_keys.append((key,name))\n",
    "        continue\n",
    "    #### Fit and pred ##\n",
    "    t_modelfitpred_start = time.time()\n",
    "    try:\n",
    "        model_frame.train_model()\n",
    "        #model.fit(train)\n",
    "    except ZeroDivisionError:\n",
    "        jhds_logger.error(f'A zero division error occurred with key {key} in training model {name}')\n",
    "\n",
    "    try:\n",
    "        pred = model_frame.pred_model()\n",
    "        #pred = model.predict(len(val))\n",
    "    except ValueError:\n",
    "        jhds_logger.error(f'Training model {name} with key {key} failed due to NaN, infinity or too large number')\n",
    "\n",
    "    pred_df = pred.pd_dataframe()\n",
    "    pred_df['model'] = name\n",
    "    pred_df.rename(columns={'0':'fcst'},inplace=True)\n",
    "    model_dfs.append(pred_df)\n",
    "    #### Accuracies ##\n",
    "    accuracies = pd.DataFrame()\n",
    "    accuracies['mape'] = pd.Series(mape(model_frame.val,pred))\n",
    "    accuracies['smape'] = pd.Series(smape(model_frame.val,pred))\n",
    "    accuracies['mase'] = pd.Series(mase(model_frame.val,pred,insample=model_frame.train))\n",
    "    accuracies['model'] = name\n",
    "    model_accs.append(accuracies)\n",
    "    t_modelfitpred_end = time.time()\n",
    "    jhds_logger.info(f'Finished fitting model {name}, it took {\"{:.2f}\".format((t_modelfitpred_end-t_modelfitpred_start)/60)} minutes')\n",
    "finish_time = time.perf_counter()\n",
    "print(f\"Program finished in {finish_time-start_time} seconds\")\n",
    "print(model_dfs, model_accs)"
   ]
  },
  {
   "cell_type": "code",
   "execution_count": 19,
   "id": "2a80eef8",
   "metadata": {},
   "outputs": [],
   "source": [
    "keys = ['Midwest Central_C+ St Plk', 'Midwest Central_Pr Plk']"
   ]
  },
  {
   "cell_type": "code",
   "execution_count": 22,
   "id": "46f87f1a",
   "metadata": {},
   "outputs": [],
   "source": [
    "# with open('keys.pkl', 'rb') as f:\n",
    "#     keys = pickle.load(f)"
   ]
  },
  {
   "cell_type": "code",
   "execution_count": 20,
   "id": "b454d4bf",
   "metadata": {},
   "outputs": [
    {
     "data": {
      "text/plain": [
       "['Midwest Central_C+ St Plk', 'Midwest Central_Pr Plk']"
      ]
     },
     "execution_count": 20,
     "metadata": {},
     "output_type": "execute_result"
    }
   ],
   "source": [
    "keys"
   ]
  },
  {
   "cell_type": "code",
   "execution_count": 17,
   "id": "38352cee",
   "metadata": {},
   "outputs": [
    {
     "data": {
      "text/plain": [
       "[(<orbit.forecaster.full_bayes.FullBayesianForecaster at 0x7f3f3e67e350>,\n",
       "  'Orbit'),\n",
       " (ExponentialSmoothing(trend=ModelMode.ADDITIVE, damped=False, seasonal=SeasonalityMode.ADDITIVE, seasonal_periods=None, random_state=0),\n",
       "  'ExponentialSmoothing'),\n",
       " (NaiveSeasonal(K=1), 'NaiveSeasonal'),\n",
       " (NaiveDrift(), 'NaiveDrift'),\n",
       " (NaiveMean(), 'NaiveMean'),\n",
       " (AutoARIMA(add_encoders=None), 'AutoARIMA')]"
      ]
     },
     "execution_count": 17,
     "metadata": {},
     "output_type": "execute_result"
    }
   ],
   "source": [
    "list(zip(models,models_names))"
   ]
  },
  {
   "cell_type": "code",
   "execution_count": 21,
   "id": "6863251f-be95-46ac-abf3-977605ea5c76",
   "metadata": {},
   "outputs": [
    {
     "name": "stdout",
     "output_type": "stream",
     "text": [
      "model is training now fit_model/Orbit/train_model <orbit.forecaster.full_bayes.FullBayesianForecaster object at 0x7fb7d11c83d0>\n",
      "parallel/delayed is printing\n",
      "parallel/delayed is printing\n",
      "model is training now fit_model/Darts/train_model ExponentialSmoothing()\n",
      "parallel/delayed is printing\n",
      "parallel/delayed is printing\n",
      "model is training now fit_model/Darts/train_model NaiveSeasonal()\n",
      "parallel/delayed is printing\n",
      "parallel/delayed is printing\n",
      "model is training now fit_model/Darts/train_model NaiveDrift()\n",
      "parallel/delayed is printing\n",
      "parallel/delayed is printing\n",
      "model is training now fit_model/Darts/train_model NaiveMean()\n",
      "parallel/delayed is printing\n",
      "parallel/delayed is printing\n",
      "model is training now fit_model/Darts/train_model AutoARIMA()\n"
     ]
    },
    {
     "name": "stderr",
     "output_type": "stream",
     "text": [
      "/home/shahid/anaconda3/envs/jameshardie/lib/python3.7/site-packages/statsmodels/tsa/holtwinters/model.py:917: ConvergenceWarning: Optimization failed to converge. Check mle_retvals.\n",
      "  ConvergenceWarning,\n"
     ]
    },
    {
     "name": "stdout",
     "output_type": "stream",
     "text": [
      "parallel/delayed is printing\n",
      "parallel/delayed is printing\n",
      "model is training now fit_model/Orbit/train_model <orbit.forecaster.full_bayes.FullBayesianForecaster object at 0x7fb7d11924d0>\n",
      "parallel/delayed is printing\n",
      "parallel/delayed is printing\n",
      "model is training now fit_model/Darts/train_model ExponentialSmoothing()\n",
      "parallel/delayed is printing\n",
      "parallel/delayed is printing\n",
      "model is training now fit_model/Darts/train_model NaiveSeasonal()\n",
      "parallel/delayed is printing\n",
      "parallel/delayed is printing\n",
      "model is training now fit_model/Darts/train_model NaiveDrift()\n",
      "parallel/delayed is printing\n",
      "parallel/delayed is printing\n",
      "model is training now fit_model/Darts/train_model NaiveMean()\n",
      "parallel/delayed is printing\n",
      "parallel/delayed is printing\n"
     ]
    },
    {
     "name": "stderr",
     "output_type": "stream",
     "text": [
      "/home/shahid/anaconda3/envs/jameshardie/lib/python3.7/site-packages/statsmodels/tsa/holtwinters/model.py:917: ConvergenceWarning: Optimization failed to converge. Check mle_retvals.\n",
      "  ConvergenceWarning,\n"
     ]
    },
    {
     "name": "stdout",
     "output_type": "stream",
     "text": [
      "model is training now fit_model/Darts/train_model AutoARIMA()\n",
      "parallel/delayed is printing\n",
      "parallel/delayed is printing\n",
      "Program finished in 6.232601464999789 seconds\n"
     ]
    }
   ],
   "source": [
    "start_time = time.perf_counter()\n",
    "for key in keys :\n",
    "    cnt +=1\n",
    "    len_keys = len(keys)\n",
    "    jhds_logger.info(f'Working on item : {key}, key {cnt} out of {len_keys} ')\n",
    "    prod_df = prep_comp_prod[prep_comp_prod['group_key']==key]\n",
    "\n",
    "    #### Cycle through models ###\n",
    "    t_model_start = time.time()\n",
    "    #jhds_logger.info(f'Cycling through models for {key} ')\n",
    "    model_dfs, model_accs = [],[]\n",
    "    seed(2309)\n",
    "    for model,name in list(zip(models,models_names)):\n",
    "        #### Instantiate model framework\n",
    "        if (name == 'Orbit'):\n",
    "            model_frame = Orbit(model,prod_df,run_mofcst,train_date=train_date,forecast_horizon=None)\n",
    "        else:\n",
    "            model_frame = Darts(model,prod_df, run_mofcst, train_date,forecast_horizon=None)\n",
    "        #print(model_frame)\n",
    "\n",
    "        #### Create time series\n",
    "        #prod_ts = pre_process.create_ts(prod_df,run_mofcst)\n",
    "        model_frame.prep_data()\n",
    "\n",
    "        #### Split train and test sets for holdout accuracy\n",
    "        #train,val = prod_ts.split_before(pd.Timestamp(train_date))\n",
    "        model_frame.split_data()\n",
    "        #TODO create fit function (returns model params)\n",
    "        # check for length , Expo can't handle less than 24, autoarima needs 30\n",
    "        if ( (len(model_frame.train)<24) & (name in time_models) ):\n",
    "            failed_keys.append((key,name))\n",
    "            continue\n",
    "        elif ( (len(model_frame.train)<30) & (name in time_models2)) :\n",
    "            failed_keys.append((key,name))\n",
    "            continue\n",
    "        elif ( (name in time_models3) & (model_frame.get_train_df_ordervol().tail(12).sum()<12) ):\n",
    "            failed_keys.append((key,name))\n",
    "            continue\n",
    "        #### Fit and pred ##\n",
    "        t_modelfitpred_start = time.time()\n",
    "        try:\n",
    "            model_frame.train_model()\n",
    "            #model.fit(train)\n",
    "        except ZeroDivisionError:\n",
    "            jhds_logger.error(f'A zero division error occurred with key {key} in training model {name}')\n",
    "\n",
    "        try:\n",
    "            pred = model_frame.pred_model()\n",
    "            #pred = model.predict(len(val))\n",
    "        except ValueError:\n",
    "            jhds_logger.error(f'Training model {name} with key {key} failed due to NaN, infinity or too large number')\n",
    "\n",
    "        pred_df = pred.pd_dataframe()\n",
    "        pred_df['model'] = name\n",
    "        pred_df.rename(columns={'0':'fcst'},inplace=True)\n",
    "        model_dfs.append(pred_df)\n",
    "        #### Accuracies ##\n",
    "        accuracies = pd.DataFrame()\n",
    "        accuracies['mape'] = pd.Series(mape(model_frame.val,pred))\n",
    "        accuracies['smape'] = pd.Series(smape(model_frame.val,pred))\n",
    "        accuracies['mase'] = pd.Series(mase(model_frame.val,pred,insample=model_frame.train))\n",
    "        accuracies['model'] = name\n",
    "        model_accs.append(accuracies)\n",
    "        t_modelfitpred_end = time.time()\n",
    "        jhds_logger.info(f'Finished fitting model {name}, it took {\"{:.2f}\".format((t_modelfitpred_end-t_modelfitpred_start)/60)} minutes')\n",
    "\n",
    "    accs_df = pd.concat(model_accs)\n",
    "    accs_df['group_key'] = key\n",
    "    models_df = pd.concat(model_dfs)\n",
    "    models_df['group_key'] = key\n",
    "    prod_dfs.append(models_df)\n",
    "    prod_accs.append(accs_df)\n",
    "    #t_inner.toc('Product Model fit and preds took ')\n",
    "    t_model_end = time.time()\n",
    "    jhds_logger.info(f'Finished cycling through models for key: {key}, cycle took {\"{:.2f}\".format((t_model_end-t_model_start)/60)} minutes')\n",
    "\n",
    "accs_list_file = 'accs_list.pkl'\n",
    "preds_list_file = 'preds_list.pkl'\n",
    "with open(accs_list_file,'wb') as f:\n",
    "    pickle.dump(prod_accs,f)\n",
    "with open(preds_list_file,'wb') as f:\n",
    "    pickle.dump(prod_dfs,f)\n",
    "jhds_logger.info('Pickled accuracies and predictions in holdout')\n",
    "prods_mods_df = pd.concat(prod_dfs).reset_index()\n",
    "prods_accs_df = pd.concat(prod_accs)\n",
    "\n",
    "## Failed logging ##\n",
    "failed_df = pd.DataFrame({'group_key':failed_keys})\n",
    "\n",
    "###\n",
    "holdout_accs = prods_accs_df.set_index(['model','group_key']).reset_index()\n",
    "failed_accuracy = holdout_accs[holdout_accs['smape'].isnull()][['group_key','model']]\n",
    "failed_accuracy['fail_point'] = 'accuracy_calc'\n",
    "failed_df = pd.concat([failed_df,failed_accuracy])\n",
    "holdout_accs = holdout_accs.dropna(subset=['smape'])\n",
    "finish_time = time.perf_counter()\n",
    "print(f\"Program finished in {finish_time-start_time} seconds\")"
   ]
  },
  {
   "cell_type": "code",
   "execution_count": 24,
   "id": "05776911",
   "metadata": {},
   "outputs": [
    {
     "data": {
      "text/plain": [
       "[component          Order_Volume_(STD)                 model                  group_key\n",
       " Order_Create_Date                                                                     \n",
       " 2023-12-01               2.451679e+06                 Orbit  Midwest Central_C+ St Plk\n",
       " 2024-01-01               2.469601e+06                 Orbit  Midwest Central_C+ St Plk\n",
       " 2024-02-01               2.350747e+06                 Orbit  Midwest Central_C+ St Plk\n",
       " 2024-03-01               2.477421e+06                 Orbit  Midwest Central_C+ St Plk\n",
       " 2024-04-01               2.107309e+06                 Orbit  Midwest Central_C+ St Plk\n",
       " 2023-12-01               2.594438e+06  ExponentialSmoothing  Midwest Central_C+ St Plk\n",
       " 2024-01-01               2.314034e+06  ExponentialSmoothing  Midwest Central_C+ St Plk\n",
       " 2024-02-01               2.339418e+06  ExponentialSmoothing  Midwest Central_C+ St Plk\n",
       " 2024-03-01               2.456159e+06  ExponentialSmoothing  Midwest Central_C+ St Plk\n",
       " 2024-04-01               2.204377e+06  ExponentialSmoothing  Midwest Central_C+ St Plk\n",
       " 2023-12-01               1.313501e+06         NaiveSeasonal  Midwest Central_C+ St Plk\n",
       " 2024-01-01               1.313501e+06         NaiveSeasonal  Midwest Central_C+ St Plk\n",
       " 2024-02-01               1.313501e+06         NaiveSeasonal  Midwest Central_C+ St Plk\n",
       " 2024-03-01               1.313501e+06         NaiveSeasonal  Midwest Central_C+ St Plk\n",
       " 2024-04-01               1.313501e+06         NaiveSeasonal  Midwest Central_C+ St Plk\n",
       " 2023-12-01               1.307153e+06            NaiveDrift  Midwest Central_C+ St Plk\n",
       " 2024-01-01               1.300804e+06            NaiveDrift  Midwest Central_C+ St Plk\n",
       " 2024-02-01               1.294456e+06            NaiveDrift  Midwest Central_C+ St Plk\n",
       " 2024-03-01               1.288108e+06            NaiveDrift  Midwest Central_C+ St Plk\n",
       " 2024-04-01               1.281760e+06            NaiveDrift  Midwest Central_C+ St Plk\n",
       " 2023-12-01               1.923609e+06             NaiveMean  Midwest Central_C+ St Plk\n",
       " 2024-01-01               1.923609e+06             NaiveMean  Midwest Central_C+ St Plk\n",
       " 2024-02-01               1.923609e+06             NaiveMean  Midwest Central_C+ St Plk\n",
       " 2024-03-01               1.923609e+06             NaiveMean  Midwest Central_C+ St Plk\n",
       " 2024-04-01               1.923609e+06             NaiveMean  Midwest Central_C+ St Plk\n",
       " 2023-12-01               1.695092e+06             AutoARIMA  Midwest Central_C+ St Plk\n",
       " 2024-01-01               1.836585e+06             AutoARIMA  Midwest Central_C+ St Plk\n",
       " 2024-02-01               1.889051e+06             AutoARIMA  Midwest Central_C+ St Plk\n",
       " 2024-03-01               1.908505e+06             AutoARIMA  Midwest Central_C+ St Plk\n",
       " 2024-04-01               1.915719e+06             AutoARIMA  Midwest Central_C+ St Plk,\n",
       " component          Order_Volume_(STD)                 model               group_key\n",
       " Order_Create_Date                                                                  \n",
       " 2023-12-01               1.062058e+06                 Orbit  Midwest Central_Pr Plk\n",
       " 2024-01-01               1.141782e+06                 Orbit  Midwest Central_Pr Plk\n",
       " 2024-02-01               1.059328e+06                 Orbit  Midwest Central_Pr Plk\n",
       " 2024-03-01               1.326257e+06                 Orbit  Midwest Central_Pr Plk\n",
       " 2024-04-01               1.125077e+06                 Orbit  Midwest Central_Pr Plk\n",
       " 2023-12-01               1.186531e+06  ExponentialSmoothing  Midwest Central_Pr Plk\n",
       " 2024-01-01               1.191102e+06  ExponentialSmoothing  Midwest Central_Pr Plk\n",
       " 2024-02-01               1.189058e+06  ExponentialSmoothing  Midwest Central_Pr Plk\n",
       " 2024-03-01               1.329016e+06  ExponentialSmoothing  Midwest Central_Pr Plk\n",
       " 2024-04-01               1.293346e+06  ExponentialSmoothing  Midwest Central_Pr Plk\n",
       " 2023-12-01               7.310675e+05         NaiveSeasonal  Midwest Central_Pr Plk\n",
       " 2024-01-01               7.310675e+05         NaiveSeasonal  Midwest Central_Pr Plk\n",
       " 2024-02-01               7.310675e+05         NaiveSeasonal  Midwest Central_Pr Plk\n",
       " 2024-03-01               7.310675e+05         NaiveSeasonal  Midwest Central_Pr Plk\n",
       " 2024-04-01               7.310675e+05         NaiveSeasonal  Midwest Central_Pr Plk\n",
       " 2023-12-01               7.299312e+05            NaiveDrift  Midwest Central_Pr Plk\n",
       " 2024-01-01               7.287949e+05            NaiveDrift  Midwest Central_Pr Plk\n",
       " 2024-02-01               7.276586e+05            NaiveDrift  Midwest Central_Pr Plk\n",
       " 2024-03-01               7.265223e+05            NaiveDrift  Midwest Central_Pr Plk\n",
       " 2024-04-01               7.253861e+05            NaiveDrift  Midwest Central_Pr Plk\n",
       " 2023-12-01               8.602914e+05             NaiveMean  Midwest Central_Pr Plk\n",
       " 2024-01-01               8.602914e+05             NaiveMean  Midwest Central_Pr Plk\n",
       " 2024-02-01               8.602914e+05             NaiveMean  Midwest Central_Pr Plk\n",
       " 2024-03-01               8.602914e+05             NaiveMean  Midwest Central_Pr Plk\n",
       " 2024-04-01               8.602914e+05             NaiveMean  Midwest Central_Pr Plk\n",
       " 2023-12-01               8.121587e+05             AutoARIMA  Midwest Central_Pr Plk\n",
       " 2024-01-01               8.419092e+05             AutoARIMA  Midwest Central_Pr Plk\n",
       " 2024-02-01               8.528240e+05             AutoARIMA  Midwest Central_Pr Plk\n",
       " 2024-03-01               8.568284e+05             AutoARIMA  Midwest Central_Pr Plk\n",
       " 2024-04-01               8.582976e+05             AutoARIMA  Midwest Central_Pr Plk]"
      ]
     },
     "execution_count": 24,
     "metadata": {},
     "output_type": "execute_result"
    }
   ],
   "source": [
    "prod_dfs"
   ]
  },
  {
   "cell_type": "code",
   "execution_count": null,
   "id": "60a824e9",
   "metadata": {},
   "outputs": [],
   "source": []
  }
 ],
 "metadata": {
  "kernelspec": {
   "display_name": "Python 3 (ipykernel)",
   "language": "python",
   "name": "python3"
  },
  "language_info": {
   "codemirror_mode": {
    "name": "ipython",
    "version": 3
   },
   "file_extension": ".py",
   "mimetype": "text/x-python",
   "name": "python",
   "nbconvert_exporter": "python",
   "pygments_lexer": "ipython3",
   "version": "3.7.16"
  }
 },
 "nbformat": 4,
 "nbformat_minor": 5
}
